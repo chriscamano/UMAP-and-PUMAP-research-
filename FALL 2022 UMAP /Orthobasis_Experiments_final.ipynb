{
 "cells": [
  {
   "cell_type": "code",
   "execution_count": 1,
   "id": "23d7101d",
   "metadata": {},
   "outputs": [],
   "source": [
    "import numpy as np\n",
    "import matplotlib.pyplot as plt\n",
    "plt.rcParams['figure.dpi'] = 300\n",
    "import umap\n",
    "import math\n",
    "import numpy.linalg as la\n",
    "#Fashion mnist\n",
    "from sklearn import model_selection\n",
    "from sklearn import linear_model, ensemble, tree, neighbors, svm\n",
    "from mnist.loader import MNIST\n",
    "from sklearn.decomposition import PCA"
   ]
  },
  {
   "cell_type": "code",
   "execution_count": 2,
   "id": "490b5de4",
   "metadata": {},
   "outputs": [
    {
     "name": "stdout",
     "output_type": "stream",
     "text": [
      "Fetching Fashion-Mnist\n",
      "=========================\n",
      "Fashion-Mnist loaded\n",
      "=========================\n"
     ]
    }
   ],
   "source": [
    "print(\"Fetching Fashion-Mnist\")\n",
    "print(\"=========================\")\n",
    "mndata = MNIST('../fashion-mnist/data/fashion') #added path extension for new file structure\n",
    "train, train_labels = mndata.load_training()\n",
    "test, test_labels = mndata.load_testing()\n",
    "data = np.array(np.vstack([train, test]), dtype=np.float64) / 255.0\n",
    "target = np.hstack([train_labels, test_labels])\n",
    "classes = [\n",
    "    'T-shirt/top',\n",
    "    'Trouser', \n",
    "    'Pullover',\n",
    "    'Dress',\n",
    "    'Coat',\n",
    "    'Sandal',\n",
    "    'Shirt',\n",
    "    'Sneaker',\n",
    "    'Bag',\n",
    "    'Ankle boot']\n",
    "print(\"Fashion-Mnist loaded\")\n",
    "print (\"=========================\")"
   ]
  },
  {
   "cell_type": "markdown",
   "id": "c0112cf0",
   "metadata": {},
   "source": [
    "## Compeltion Bar"
   ]
  },
  {
   "cell_type": "code",
   "execution_count": 4,
   "id": "22f809be",
   "metadata": {},
   "outputs": [],
   "source": [
    "import time, sys\n",
    "from IPython.display import clear_output\n",
    "\n",
    "def update_progress(progress):\n",
    "    bar_length = 20\n",
    "    if isinstance(progress, int):\n",
    "        progress = float(progress)\n",
    "    if not isinstance(progress, float):\n",
    "        progress = 0\n",
    "    if progress < 0:\n",
    "        progress = 0\n",
    "    if progress >= 1:\n",
    "        progress = 1\n",
    "\n",
    "    block = int(round(bar_length * progress))\n",
    "\n",
    "    clear_output(wait = True)\n",
    "    text = \"Progress: [{0}] {1:.1f}%\".format( \"#\" * block + \"-\" * (bar_length - block), progress * 100)\n",
    "    print(text)"
   ]
  },
  {
   "cell_type": "markdown",
   "id": "0290137a",
   "metadata": {},
   "source": [
    "## Rotation Function via openCV"
   ]
  },
  {
   "cell_type": "code",
   "execution_count": 5,
   "id": "24da2ead",
   "metadata": {},
   "outputs": [],
   "source": [
    "from __future__ import print_function\n",
    "import cv2 as cv\n",
    "import numpy as np\n",
    "import argparse"
   ]
  },
  {
   "cell_type": "code",
   "execution_count": 6,
   "id": "e6bd247b",
   "metadata": {},
   "outputs": [],
   "source": [
    "def rotate(image, deg):\n",
    "    src=image\n",
    "    srcTri = np.array( [[0, 0], [src.shape[1] - 1, 0], [0, src.shape[0] - 1]] ).astype(np.float32)\n",
    "    dstTri = np.array( [[0, src.shape[1]*0.33], [src.shape[1]*0.85, src.shape[0]*0.25], [src.shape[1]*0.15, src.shape[0]*0.7]] ).astype(np.float32)\n",
    "    warp_mat = cv.getAffineTransform(srcTri, dstTri)\n",
    "    warp_dst = cv.warpAffine(src, warp_mat, (src.shape[1], src.shape[0]))\n",
    "\n",
    "    # Rotating the image after Warp\n",
    "    center = (warp_dst.shape[1]//2, warp_dst.shape[0]//2)\n",
    "    angle = deg\n",
    "    scale = 1\n",
    "\n",
    "    rot_mat = cv.getRotationMatrix2D( center, angle, scale )\n",
    "    warp_rotate_dst = cv.warpAffine(src, rot_mat, (src.shape[1], src.shape[0]))\n",
    "    tau=.1\n",
    "    for j in range(warp_rotate_dst.shape[0]):\n",
    "        for k in range(warp_rotate_dst.shape[0]):\n",
    "            if warp_rotate_dst[j][k]<tau:\n",
    "                warp_rotate_dst[j][k]=np.rint(warp_rotate_dst[j][k])\n",
    "    return warp_rotate_dst"
   ]
  },
  {
   "cell_type": "markdown",
   "id": "9e9f8f74",
   "metadata": {},
   "source": [
    "## Rotating Data Set by random amounts"
   ]
  },
  {
   "cell_type": "code",
   "execution_count": 44,
   "id": "058af4d6",
   "metadata": {},
   "outputs": [
    {
     "name": "stdout",
     "output_type": "stream",
     "text": [
      "Progress: [####################] 100.0%\n"
     ]
    }
   ],
   "source": [
    "#Generate list of rotations to randomly choose from \n",
    "N=10\n",
    "phi = np.linspace(-N,N,1000)\n",
    "phi = phi%(2*math.pi)\n",
    "phi=np.degrees(phi)\n",
    "phi=(np.floor(phi))\n",
    "phi=phi.astype('int32')\n",
    "print(np.random.choice(phi))\n",
    "\n",
    "r_data=[]\n",
    "for i in range(np.shape(data)[0]):\n",
    "    theta=np.random.choice(phi)\n",
    "    #print(i,theta)\n",
    "    r_data.append(rotate(np.reshape(data[i],(28,28)),theta))\n",
    "    update_progress(i / np.shape(data)[0])\n",
    "    "
   ]
  },
  {
   "cell_type": "markdown",
   "id": "8ce72c98",
   "metadata": {},
   "source": [
    "## Inverse rotation computation and helper functions"
   ]
  },
  {
   "cell_type": "code",
   "execution_count": 216,
   "id": "d54f3d8d",
   "metadata": {},
   "outputs": [],
   "source": [
    "def compute_principal_vectors(A):\n",
    "    Y=compute_mask(A.T)\n",
    "    n=np.shape(A)[0]        \n",
    "    X=compute_pointset(Y,n)\n",
    "    \n",
    "    #compute Correlation matrix \n",
    "    C=1/n*X@X.T\n",
    "    w,v=la.eig(C)\n",
    "    # Determine which eigenvalue is the negative one for correlation matrix construction \n",
    "    if(w[0]<w[1]):\n",
    "        neg_eig=w[0]\n",
    "        pos_eig=w[1]\n",
    "    else:\n",
    "        neg_eig=w[1]\n",
    "        pos_eig=w[0]\n",
    "        \n",
    "    #Manually generate matrix using enteries of correlation matrix(possible errors on addition of negative eigenvalue to wrong index)\n",
    "    Vplus=np.asarray([C[0][0]+C[0][1]-neg_eig,C[1][1]+C[0][1]-neg_eig])\n",
    "    Vminus=np.asarray([C[0][0]+C[0][1]-pos_eig,C[1][1]+C[0][1]-pos_eig]) \n",
    "    \n",
    "    #original construction of special eigenvectors \n",
    "    #Vplus=np.asarray([C[0][0]+C[0][1]-w[0],C[1][1]+C[0][1]-w[0]])\n",
    "    #Vminus=np.asarray([C[0][0]+C[0][1]-w[1],C[1][1]+C[0][1]-w[1]])\n",
    "      \n",
    "    Uplus=Vplus / np.sqrt(np.sum(Vplus**2))\n",
    "    Uminus=Vminus / np.sqrt(np.sum(Vminus**2))\n",
    "    Rtrans=np.column_stack(((Uplus),(Uminus)))\n",
    "    return Rtrans,X\n"
   ]
  },
  {
   "cell_type": "code",
   "execution_count": 275,
   "id": "dcbabd7f",
   "metadata": {},
   "outputs": [],
   "source": [
    "def compute_principal_vectors_from_pointset(X):\n",
    "    #compute Correlation matrix \n",
    "    C=1/28*X@X.T\n",
    "    w,v=la.eig(C)\n",
    "    # Determine which eigenvalue is the negative one for correlation matrix construction \n",
    "    if(w[0]<w[1]):\n",
    "        neg_eig=w[0]\n",
    "        pos_eig=w[1]\n",
    "    else:\n",
    "        neg_eig=w[1]\n",
    "        pos_eig=w[0]\n",
    "        \n",
    "    #Manually generate matrix using enteries of correlation matrix(possible errors on addition of negative eigenvalue to wrong index)\n",
    "    Vplus=np.asarray([C[0][0]+C[0][1]-neg_eig,C[1][1]+C[0][1]-neg_eig])\n",
    "    Vminus=np.asarray([C[0][0]+C[0][1]-pos_eig,C[1][1]+C[0][1]-pos_eig]) \n",
    "    \n",
    "    #original construction of special eigenvectors \n",
    "    #Vplus=np.asarray([C[0][0]+C[0][1]-w[0],C[1][1]+C[0][1]-w[0]])\n",
    "    #Vminus=np.asarray([C[0][0]+C[0][1]-w[1],C[1][1]+C[0][1]-w[1]])\n",
    "      \n",
    "    Uplus=Vplus / np.sqrt(np.sum(Vplus**2))\n",
    "    Uminus=Vminus / np.sqrt(np.sum(Vminus**2))\n",
    "    Rtrans=np.column_stack(((Uplus),(Uminus)))\n",
    "    return Rtrans,X"
   ]
  },
  {
   "cell_type": "code",
   "execution_count": 217,
   "id": "e8a03049",
   "metadata": {},
   "outputs": [],
   "source": [
    "def compute_mask(A):\n",
    "    n=np.shape(A)[0]\n",
    "    Y=np.zeros((n,n))\n",
    "    for i in range(n):\n",
    "        for j in range(n):\n",
    "            if A[i][j]>.025:\n",
    "                Y[i][j]=1\n",
    "    #small corrections to mask quality \n",
    "    for i in range(n):\n",
    "        for j in range(n):\n",
    "            if i==n-1 or j==n-1:\n",
    "                continue\n",
    "            #Check neighbors\n",
    "            if Y[i-1][j]+Y[i+1][j]+Y[i][j-1]+Y[i][j+1]==3:     #try maxing or averaging over threshold \n",
    "                Y[i][j]=1\n",
    "    return Y"
   ]
  },
  {
   "cell_type": "code",
   "execution_count": 218,
   "id": "73ec0f70",
   "metadata": {},
   "outputs": [],
   "source": [
    "def compute_pointset(Y,n):\n",
    "    #Create point list for 2d pca\n",
    "    x=[]\n",
    "    y=[]\n",
    "    for i in range(n):\n",
    "        for j in range(n):\n",
    "            if Y[i][j]==1:\n",
    "                x.append(i)\n",
    "                y.append(j)\n",
    "    return np.vstack((x,y))"
   ]
  },
  {
   "cell_type": "code",
   "execution_count": 219,
   "id": "0ee6a0bf",
   "metadata": {},
   "outputs": [],
   "source": [
    "def inverse_degrees(Rtrans):\n",
    "    theta=math.degrees(math.acos(Rtrans[0][0]))\n",
    "    return theta"
   ]
  },
  {
   "cell_type": "markdown",
   "id": "df91bb63",
   "metadata": {},
   "source": [
    "## Plotting Functions"
   ]
  },
  {
   "cell_type": "code",
   "execution_count": 220,
   "id": "30dac48a",
   "metadata": {},
   "outputs": [],
   "source": [
    "def plot_pc_vectors(R,X):\n",
    "    #Manual image reflection: \n",
    "    fig = plt.figure( figsize=(8, 6))\n",
    "    plt.plot(X[0,:],X[1,:],'o')\n",
    "\n",
    "    origin = [15, 15]\n",
    "    plt.quiver(*origin, R[0][0],R[0][1],  color=['r'], scale=1)\n",
    "    plt.quiver(*origin, R[1][0],R[1][1],color=['y'], scale=1)\n",
    "\n",
    "    \n",
    "    #uncomment for full axis \n",
    "    #origin = [15, 15]\n",
    "    #plt.quiver(*origin, -R[0][0],-R[0][1],  color=['r'], scale=1)\n",
    "    #plt.quiver(*origin, -R[1][0],-R[1][1],color=['y'], scale=1)\n",
    "    plt.title(\"Plot of pca vectors of image matrix over 2d binary mask interpretation\")\n",
    "    plt.xlabel('row') \n",
    "    plt.ylabel('column') \n",
    "    plt.show()\n",
    "   \n",
    "    #print(np.cross(Uplus,Uminus))"
   ]
  },
  {
   "cell_type": "code",
   "execution_count": 221,
   "id": "370fab82",
   "metadata": {},
   "outputs": [],
   "source": [
    "def compare_samples(control,rotated,corrected):\n",
    "    #control\n",
    "    fig = plt.figure( figsize=(8, 6))\n",
    "    plt.title(\" control \")\n",
    "    plt.imshow(np.reshape(control,(28,28)), cmap='gray')\n",
    "    plt.show()\n",
    "    #Augmented\n",
    "    fig = plt.figure( figsize=(8, 6))\n",
    "    plt.title(\"augmented\")\n",
    "    plt.imshow(rotated, cmap='gray')\n",
    "    plt.show()\n",
    "    #correction: \n",
    "    fig = plt.figure( figsize=(8, 6))\n",
    "    plt.title(\"corrected\")\n",
    "    plt.imshow(corrected, cmap='gray')\n",
    "   # plt.imshow(rotate(r_data[n],theta), cmap='gray')\n",
    "    plt.show()"
   ]
  },
  {
   "cell_type": "markdown",
   "id": "94e55122",
   "metadata": {},
   "source": [
    "## Testing on a single sample"
   ]
  },
  {
   "cell_type": "code",
   "execution_count": 308,
   "id": "d0704835",
   "metadata": {},
   "outputs": [
    {
     "data": {
      "image/png": "[encoded data removed]",
      "text/plain": [
       "<Figure size 576x432 with 1 Axes>"
      ]
     },
     "metadata": {
      "needs_background": "light"
     },
     "output_type": "display_data"
    },
    {
     "data": {
      "image/png": "[encoded data removed]",
      "text/plain": [
       "<Figure size 576x432 with 1 Axes>"
      ]
     },
     "metadata": {
      "needs_background": "light"
     },
     "output_type": "display_data"
    },
    {
     "data": {
      "image/png": "[encoded data removed]",
      "text/plain": [
       "<Figure size 576x432 with 1 Axes>"
      ]
     },
     "metadata": {
      "needs_background": "light"
     },
     "output_type": "display_data"
    },
    {
     "data": {
      "image/png": "[encoded data removed]",
      "text/plain": [
       "<Figure size 576x432 with 1 Axes>"
      ]
     },
     "metadata": {
      "needs_background": "light"
     },
     "output_type": "display_data"
    }
   ],
   "source": [
    "s=1\n",
    "sample=np.reshape(data[s],(28,28))\n",
    "R,X=compute_principal_vectors(r_data[s])\n",
    "plot_pc_vectors(R,X)\n",
    "t=inverse_degrees(R)\n",
    "compare_samples(sample,r_data[s],rotate(sample,theta))"
   ]
  },
  {
   "cell_type": "code",
   "execution_count": 305,
   "id": "856cc379",
   "metadata": {},
   "outputs": [
    {
     "data": {
      "image/png": "[encoded data removed]",
      "text/plain": [
       "<Figure size 576x432 with 1 Axes>"
      ]
     },
     "metadata": {
      "needs_background": "light"
     },
     "output_type": "display_data"
    },
    {
     "data": {
      "image/png": "[encoded data removed]",
      "text/plain": [
       "<Figure size 576x432 with 1 Axes>"
      ]
     },
     "metadata": {
      "needs_background": "light"
     },
     "output_type": "display_data"
    },
    {
     "name": "stdout",
     "output_type": "stream",
     "text": [
      "22.526522023765718\n",
      "942\n"
     ]
    },
    {
     "data": {
      "image/png": "[encoded data removed]",
      "text/plain": [
       "<Figure size 576x432 with 1 Axes>"
      ]
     },
     "metadata": {
      "needs_background": "light"
     },
     "output_type": "display_data"
    }
   ],
   "source": [
    "inverse_rotation=la.inv(R)\n",
    "corrected_pointset=inverse_rotation@X\n",
    "#print(type(corrected_pointset))\n",
    "#print(min(corrected_pointset[0]))\n",
    "##print(np.shape(corrected_pointset)[1])\n",
    "minx=min(corrected_pointset[0])\n",
    "for i in range(np.shape(corrected_pointset)[1]):\n",
    "    corrected_pointset[0][i]=corrected_pointset[0][i]-minx\n",
    "miny=min(corrected_pointset[1])\n",
    "for i in range(np.shape(corrected_pointset)[1]):\n",
    "    corrected_pointset[1][i]=corrected_pointset[1][i]-miny\n",
    "    \n",
    "    \n",
    "fig = plt.figure( figsize=(8, 6))\n",
    "plt.plot(corrected_pointset[0,:],corrected_pointset[1,:],'o')\n",
    "#print(type(X))\n",
    "R,X=compute_principal_vectors_from_pointset(corrected_pointset)\n",
    "plot_pc_vectors(R,corrected_pointset)\n",
    "print(max(corrected_pointset[1]))\n",
    "corrected_pointset=np.floor(corrected_pointset)\n",
    "\n",
    "#Manually re construct matrix from mask \n",
    "P=np.zeros((28,28))\n",
    "\n",
    "print(np.size(corrected_pointset))\n",
    "for i in range(np.shape(corrected_pointset)[1]):\n",
    "    x=int(corrected_pointset[0][i])\n",
    "    y=int(corrected_pointset[1][i])\n",
    "    if (x>=28 or y>=28):\n",
    "        continue\n",
    "    P[x][y]=1\n",
    "fig = plt.figure( figsize=(8, 6))\n",
    "plt.title(\"augmented\")\n",
    "plt.imshow(P, cmap='gray')\n",
    "plt.show()    "
   ]
  },
  {
   "cell_type": "code",
   "execution_count": 268,
   "id": "d30719ba",
   "metadata": {},
   "outputs": [
    {
     "ename": "error",
     "evalue": "OpenCV(4.6.0) /io/opencv/modules/imgproc/src/imgwarp.cpp:1800: error: (-215:Assertion failed) ifunc != 0 in function 'remap'\n",
     "output_type": "error",
     "traceback": [
      "\u001b[0;31m---------------------------------------------------------------------------\u001b[0m",
      "\u001b[0;31merror\u001b[0m                                     Traceback (most recent call last)",
      "Input \u001b[0;32mIn [268]\u001b[0m, in \u001b[0;36m<cell line: 3>\u001b[0;34m()\u001b[0m\n\u001b[1;32m      1\u001b[0m inverse_rotation\u001b[38;5;241m=\u001b[39mla\u001b[38;5;241m.\u001b[39minv(R)\n\u001b[1;32m      2\u001b[0m t\u001b[38;5;241m=\u001b[39minverse_degrees(inverse_rotation)\n\u001b[0;32m----> 3\u001b[0m Xr\u001b[38;5;241m=\u001b[39m\u001b[43mrotate\u001b[49m\u001b[43m(\u001b[49m\u001b[43mX\u001b[49m\u001b[43m,\u001b[49m\u001b[43mt\u001b[49m\u001b[43m)\u001b[49m\n",
      "Input \u001b[0;32mIn [6]\u001b[0m, in \u001b[0;36mrotate\u001b[0;34m(image, deg)\u001b[0m\n\u001b[1;32m      4\u001b[0m dstTri \u001b[38;5;241m=\u001b[39m np\u001b[38;5;241m.\u001b[39marray( [[\u001b[38;5;241m0\u001b[39m, src\u001b[38;5;241m.\u001b[39mshape[\u001b[38;5;241m1\u001b[39m]\u001b[38;5;241m*\u001b[39m\u001b[38;5;241m0.33\u001b[39m], [src\u001b[38;5;241m.\u001b[39mshape[\u001b[38;5;241m1\u001b[39m]\u001b[38;5;241m*\u001b[39m\u001b[38;5;241m0.85\u001b[39m, src\u001b[38;5;241m.\u001b[39mshape[\u001b[38;5;241m0\u001b[39m]\u001b[38;5;241m*\u001b[39m\u001b[38;5;241m0.25\u001b[39m], [src\u001b[38;5;241m.\u001b[39mshape[\u001b[38;5;241m1\u001b[39m]\u001b[38;5;241m*\u001b[39m\u001b[38;5;241m0.15\u001b[39m, src\u001b[38;5;241m.\u001b[39mshape[\u001b[38;5;241m0\u001b[39m]\u001b[38;5;241m*\u001b[39m\u001b[38;5;241m0.7\u001b[39m]] )\u001b[38;5;241m.\u001b[39mastype(np\u001b[38;5;241m.\u001b[39mfloat32)\n\u001b[1;32m      5\u001b[0m warp_mat \u001b[38;5;241m=\u001b[39m cv\u001b[38;5;241m.\u001b[39mgetAffineTransform(srcTri, dstTri)\n\u001b[0;32m----> 6\u001b[0m warp_dst \u001b[38;5;241m=\u001b[39m \u001b[43mcv\u001b[49m\u001b[38;5;241;43m.\u001b[39;49m\u001b[43mwarpAffine\u001b[49m\u001b[43m(\u001b[49m\u001b[43msrc\u001b[49m\u001b[43m,\u001b[49m\u001b[43m \u001b[49m\u001b[43mwarp_mat\u001b[49m\u001b[43m,\u001b[49m\u001b[43m \u001b[49m\u001b[43m(\u001b[49m\u001b[43msrc\u001b[49m\u001b[38;5;241;43m.\u001b[39;49m\u001b[43mshape\u001b[49m\u001b[43m[\u001b[49m\u001b[38;5;241;43m1\u001b[39;49m\u001b[43m]\u001b[49m\u001b[43m,\u001b[49m\u001b[43m \u001b[49m\u001b[43msrc\u001b[49m\u001b[38;5;241;43m.\u001b[39;49m\u001b[43mshape\u001b[49m\u001b[43m[\u001b[49m\u001b[38;5;241;43m0\u001b[39;49m\u001b[43m]\u001b[49m\u001b[43m)\u001b[49m\u001b[43m)\u001b[49m\n\u001b[1;32m      8\u001b[0m \u001b[38;5;66;03m# Rotating the image after Warp\u001b[39;00m\n\u001b[1;32m      9\u001b[0m center \u001b[38;5;241m=\u001b[39m (warp_dst\u001b[38;5;241m.\u001b[39mshape[\u001b[38;5;241m1\u001b[39m]\u001b[38;5;241m/\u001b[39m\u001b[38;5;241m/\u001b[39m\u001b[38;5;241m2\u001b[39m, warp_dst\u001b[38;5;241m.\u001b[39mshape[\u001b[38;5;241m0\u001b[39m]\u001b[38;5;241m/\u001b[39m\u001b[38;5;241m/\u001b[39m\u001b[38;5;241m2\u001b[39m)\n",
      "\u001b[0;31merror\u001b[0m: OpenCV(4.6.0) /io/opencv/modules/imgproc/src/imgwarp.cpp:1800: error: (-215:Assertion failed) ifunc != 0 in function 'remap'\n"
     ]
    }
   ],
   "source": [
    "inverse_rotation=la.inv(R)\n",
    "t=inverse_degrees(inverse_rotation)\n"
   ]
  },
  {
   "cell_type": "code",
   "execution_count": null,
   "id": "eae045ef",
   "metadata": {},
   "outputs": [],
   "source": []
  },
  {
   "cell_type": "code",
   "execution_count": null,
   "id": "3faf5fd4",
   "metadata": {},
   "outputs": [],
   "source": []
  },
  {
   "cell_type": "code",
   "execution_count": null,
   "id": "d6a6a701",
   "metadata": {},
   "outputs": [],
   "source": []
  },
  {
   "cell_type": "code",
   "execution_count": null,
   "id": "5a715956",
   "metadata": {},
   "outputs": [],
   "source": []
  },
  {
   "cell_type": "code",
   "execution_count": null,
   "id": "31758890",
   "metadata": {},
   "outputs": [],
   "source": []
  },
  {
   "cell_type": "code",
   "execution_count": null,
   "id": "3d08a4c4",
   "metadata": {},
   "outputs": [],
   "source": []
  },
  {
   "cell_type": "code",
   "execution_count": null,
   "id": "b954b3d0",
   "metadata": {},
   "outputs": [],
   "source": []
  },
  {
   "cell_type": "code",
   "execution_count": null,
   "id": "e4a7fa74",
   "metadata": {},
   "outputs": [],
   "source": []
  },
  {
   "cell_type": "code",
   "execution_count": null,
   "id": "34531280",
   "metadata": {},
   "outputs": [],
   "source": []
  },
  {
   "cell_type": "code",
   "execution_count": null,
   "id": "7b654653",
   "metadata": {},
   "outputs": [],
   "source": []
  },
  {
   "cell_type": "code",
   "execution_count": 243,
   "id": "b0282175",
   "metadata": {},
   "outputs": [
    {
     "name": "stdout",
     "output_type": "stream",
     "text": [
      "[[ 0.69444034 -0.71955029]\n",
      " [ 0.71955029  0.69444034]]\n",
      "46.017363841342885\n"
     ]
    },
    {
     "data": {
      "image/png": "[encoded data removed]",
      "text/plain": [
       "<Figure size 576x432 with 1 Axes>"
      ]
     },
     "metadata": {
      "needs_background": "light"
     },
     "output_type": "display_data"
    }
   ],
   "source": [
    "s=1\n",
    "sample=np.reshape(data[s],(28,28))\n",
    "Y=compute_mask(sample)\n",
    "X=compute_pointset(Y,28)\n",
    "#compute Correlation matrix \n",
    "C=1/28*X@X.T\n",
    "w,v=la.eig(C)\n",
    "# Determine which eigenvalue is the negative one for correlation matrix construction \n",
    "if(w[0]<w[1]):\n",
    "    neg_eig=w[0]\n",
    "    pos_eig=w[1]\n",
    "else:\n",
    "    neg_eig=w[1]\n",
    "    pos_eig=w[0]\n",
    "\n",
    "#Manually generate matrix using enteries of correlation matrix(possible errors on addition of negative eigenvalue to wrong index)\n",
    "Vplus=np.asarray([C[0][0]+C[0][1]-neg_eig,C[1][1]+C[0][1]-neg_eig])\n",
    "Vminus=np.asarray([C[0][0]+C[0][1]-pos_eig,C[1][1]+C[0][1]-pos_eig]) \n",
    "\n",
    "#original construction of special eigenvectors \n",
    "#Vplus=np.asarray([C[0][0]+C[0][1]-w[0],C[1][1]+C[0][1]-w[0]])\n",
    "#Vminus=np.asarray([C[0][0]+C[0][1]-w[1],C[1][1]+C[0][1]-w[1]])\n",
    "\n",
    "Uplus=Vplus / np.sqrt(np.sum(Vplus**2))\n",
    "Uminus=Vminus / np.sqrt(np.sum(Vminus**2))\n",
    "Rtrans=np.column_stack(((Uplus),(Uminus)))\n",
    "print(Rtrans)\n",
    "\n",
    "fig = plt.figure( figsize=(8, 6))\n",
    "plt.plot(X[0,:],X[1,:],'o')\n",
    "\n",
    "origin = [15, 15]\n",
    "plt.quiver(*origin, Rtrans[0][0],Rtrans[0][1],  color=['r'], scale=1)\n",
    "plt.quiver(*origin, Rtrans[1][0],Rtrans[1][1],color=['y'], scale=1)\n",
    "t=inverse_degrees(Rtrans)\n",
    "print(t)"
   ]
  },
  {
   "cell_type": "markdown",
   "id": "34eeb772",
   "metadata": {},
   "source": [
    "It appears the normal form is actually 45 degrees not identity?"
   ]
  },
  {
   "cell_type": "code",
   "execution_count": 244,
   "id": "b9509d59",
   "metadata": {},
   "outputs": [
    {
     "data": {
      "image/png": "[encoded data removed]",
      "text/plain": [
       "<Figure size 576x432 with 1 Axes>"
      ]
     },
     "metadata": {
      "needs_background": "light"
     },
     "output_type": "display_data"
    }
   ],
   "source": [
    "R,X=compute_principal_vectors(r_data[s])\n",
    "plot_pc_vectors(R,X)"
   ]
  },
  {
   "cell_type": "code",
   "execution_count": null,
   "id": "72dd3a95",
   "metadata": {},
   "outputs": [],
   "source": []
  },
  {
   "cell_type": "code",
   "execution_count": null,
   "id": "5307469f",
   "metadata": {},
   "outputs": [],
   "source": []
  },
  {
   "cell_type": "code",
   "execution_count": null,
   "id": "023d209e",
   "metadata": {},
   "outputs": [],
   "source": []
  },
  {
   "cell_type": "code",
   "execution_count": null,
   "id": "a1ff61e4",
   "metadata": {},
   "outputs": [],
   "source": []
  },
  {
   "cell_type": "code",
   "execution_count": null,
   "id": "bb588bd6",
   "metadata": {},
   "outputs": [],
   "source": []
  },
  {
   "cell_type": "code",
   "execution_count": 225,
   "id": "644cf46c",
   "metadata": {},
   "outputs": [
    {
     "name": "stdout",
     "output_type": "stream",
     "text": [
      "[[ 0.66439675  0.74738006]\n",
      " [-0.74738006  0.66439675]]\n",
      "48.36393770144877\n"
     ]
    }
   ],
   "source": [
    "inverse_rotation=la.inv(R)\n",
    "t=inverse_degrees(inverse_rotation)\n",
    "rotated_mask=inverse_rotation@X\n",
    "print(inverse_rotation)\n",
    "print(t)"
   ]
  },
  {
   "cell_type": "code",
   "execution_count": 163,
   "id": "6baf835e",
   "metadata": {},
   "outputs": [
    {
     "data": {
      "text/plain": [
       "[<matplotlib.lines.Line2D at 0x7f66e25372b0>]"
      ]
     },
     "execution_count": 163,
     "metadata": {},
     "output_type": "execute_result"
    },
    {
     "data": {
      "image/png": "[encoded data removed]",
      "text/plain": [
       "<Figure size 576x432 with 1 Axes>"
      ]
     },
     "metadata": {
      "needs_background": "light"
     },
     "output_type": "display_data"
    }
   ],
   "source": [
    "fig = plt.figure( figsize=(8, 6))\n",
    "plt.plot(rotated_mask[0,:],rotated_mask[1,:],'o')"
   ]
  },
  {
   "cell_type": "code",
   "execution_count": 164,
   "id": "9d896b24",
   "metadata": {},
   "outputs": [],
   "source": [
    "C=1/np.shape(rotated_mask)[1]*rotated_mask@rotated_mask.T\n",
    "w,v=la.eig(C)\n",
    "# Determine which eigenvalue is the negative one for correlation matrix construction \n",
    "if(w[0]<w[1]):\n",
    "    neg_eig=w[0]\n",
    "    pos_eig=w[1]\n",
    "else:\n",
    "    neg_eig=w[1]\n",
    "    pos_eig=w[0]\n",
    "\n",
    "#Manually generate matrix using enteries of correlation matrix(possible errors on addition of negative eigenvalue to wrong index)\n",
    "Vplus=np.asarray([C[0][0]+C[0][1]-neg_eig,C[1][1]+C[0][1]-neg_eig])\n",
    "Vminus=np.asarray([C[0][0]+C[0][1]-pos_eig,C[1][1]+C[0][1]-pos_eig]) \n",
    "\n",
    "#original construction of special eigenvectors \n",
    "#Vplus=np.asarray([C[0][0]+C[0][1]-w[0],C[1][1]+C[0][1]-w[0]])\n",
    "#Vminus=np.asarray([C[0][0]+C[0][1]-w[1],C[1][1]+C[0][1]-w[1]])\n",
    "\n",
    "Uplus=Vplus / np.sqrt(np.sum(Vplus**2))\n",
    "Uminus=Vminus / np.sqrt(np.sum(Vminus**2))\n",
    "Rtrans=np.column_stack(((Uplus),-(Uminus)))"
   ]
  },
  {
   "cell_type": "code",
   "execution_count": 165,
   "id": "49a4ba41",
   "metadata": {},
   "outputs": [
    {
     "name": "stdout",
     "output_type": "stream",
     "text": [
      "[[ 1.00000000e+00  2.55142244e-16]\n",
      " [-2.87035024e-16  1.00000000e+00]]\n"
     ]
    },
    {
     "data": {
      "image/png": "[encoded data removed]",
      "text/plain": [
       "<Figure size 576x432 with 1 Axes>"
      ]
     },
     "metadata": {
      "needs_background": "light"
     },
     "output_type": "display_data"
    }
   ],
   "source": [
    "fig = plt.figure( figsize=(8, 6))\n",
    "plt.plot(rotated_mask[0,:],rotated_mask[1,:],'o')\n",
    "origin = [15, 15]\n",
    "plt.quiver(*origin, Rtrans[0][0],Rtrans[0][1],  color=['r'], scale=1)\n",
    "plt.quiver(*origin, Rtrans[1][0],Rtrans[1][1],color=['y'], scale=1)\n",
    "print(Rtrans)"
   ]
  },
  {
   "cell_type": "code",
   "execution_count": null,
   "id": "5d563b7a",
   "metadata": {},
   "outputs": [],
   "source": []
  },
  {
   "cell_type": "code",
   "execution_count": 114,
   "id": "2226f572",
   "metadata": {},
   "outputs": [
    {
     "data": {
      "text/plain": [
       "[<matplotlib.lines.Line2D at 0x7f66e2ac27f0>]"
      ]
     },
     "execution_count": 114,
     "metadata": {},
     "output_type": "execute_result"
    },
    {
     "data": {
      "image/png": "[encoded data removed]",
      "text/plain": [
       "<Figure size 576x432 with 1 Axes>"
      ]
     },
     "metadata": {
      "needs_background": "light"
     },
     "output_type": "display_data"
    }
   ],
   "source": []
  },
  {
   "cell_type": "markdown",
   "id": "e95f6494",
   "metadata": {},
   "source": [
    "## Experimenting with the full pca "
   ]
  },
  {
   "cell_type": "code",
   "execution_count": 186,
   "id": "afec97fb",
   "metadata": {},
   "outputs": [
    {
     "ename": "ValueError",
     "evalue": "n_components=28 must be strictly less than min(n_samples, n_features)=28 with svd_solver='arpack'",
     "output_type": "error",
     "traceback": [
      "\u001b[0;31m---------------------------------------------------------------------------\u001b[0m",
      "\u001b[0;31mValueError\u001b[0m                                Traceback (most recent call last)",
      "Input \u001b[0;32mIn [186]\u001b[0m, in \u001b[0;36m<cell line: 2>\u001b[0;34m()\u001b[0m\n\u001b[1;32m      1\u001b[0m pca\u001b[38;5;241m=\u001b[39mPCA(n_components\u001b[38;5;241m=\u001b[39m\u001b[38;5;241m28\u001b[39m, svd_solver\u001b[38;5;241m=\u001b[39m\u001b[38;5;124m'\u001b[39m\u001b[38;5;124marpack\u001b[39m\u001b[38;5;124m'\u001b[39m)\n\u001b[0;32m----> 2\u001b[0m \u001b[43mpca\u001b[49m\u001b[38;5;241;43m.\u001b[39;49m\u001b[43mfit\u001b[49m\u001b[43m(\u001b[49m\u001b[43mr_data\u001b[49m\u001b[43m[\u001b[49m\u001b[43ms\u001b[49m\u001b[43m]\u001b[49m\u001b[43m)\u001b[49m\n",
      "File \u001b[0;32m~/anaconda3/envs/rapids-22.08/lib/python3.9/site-packages/sklearn/decomposition/_pca.py:408\u001b[0m, in \u001b[0;36mPCA.fit\u001b[0;34m(self, X, y)\u001b[0m\n\u001b[1;32m    385\u001b[0m \u001b[38;5;124;03m\"\"\"Fit the model with X.\u001b[39;00m\n\u001b[1;32m    386\u001b[0m \n\u001b[1;32m    387\u001b[0m \u001b[38;5;124;03mParameters\u001b[39;00m\n\u001b[0;32m   (...)\u001b[0m\n\u001b[1;32m    399\u001b[0m \u001b[38;5;124;03m    Returns the instance itself.\u001b[39;00m\n\u001b[1;32m    400\u001b[0m \u001b[38;5;124;03m\"\"\"\u001b[39;00m\n\u001b[1;32m    401\u001b[0m check_scalar(\n\u001b[1;32m    402\u001b[0m     \u001b[38;5;28mself\u001b[39m\u001b[38;5;241m.\u001b[39mn_oversamples,\n\u001b[1;32m    403\u001b[0m     \u001b[38;5;124m\"\u001b[39m\u001b[38;5;124mn_oversamples\u001b[39m\u001b[38;5;124m\"\u001b[39m,\n\u001b[1;32m    404\u001b[0m     min_val\u001b[38;5;241m=\u001b[39m\u001b[38;5;241m1\u001b[39m,\n\u001b[1;32m    405\u001b[0m     target_type\u001b[38;5;241m=\u001b[39mnumbers\u001b[38;5;241m.\u001b[39mIntegral,\n\u001b[1;32m    406\u001b[0m )\n\u001b[0;32m--> 408\u001b[0m \u001b[38;5;28;43mself\u001b[39;49m\u001b[38;5;241;43m.\u001b[39;49m\u001b[43m_fit\u001b[49m\u001b[43m(\u001b[49m\u001b[43mX\u001b[49m\u001b[43m)\u001b[49m\n\u001b[1;32m    409\u001b[0m \u001b[38;5;28;01mreturn\u001b[39;00m \u001b[38;5;28mself\u001b[39m\n",
      "File \u001b[0;32m~/anaconda3/envs/rapids-22.08/lib/python3.9/site-packages/sklearn/decomposition/_pca.py:485\u001b[0m, in \u001b[0;36mPCA._fit\u001b[0;34m(self, X)\u001b[0m\n\u001b[1;32m    483\u001b[0m     \u001b[38;5;28;01mreturn\u001b[39;00m \u001b[38;5;28mself\u001b[39m\u001b[38;5;241m.\u001b[39m_fit_full(X, n_components)\n\u001b[1;32m    484\u001b[0m \u001b[38;5;28;01melif\u001b[39;00m \u001b[38;5;28mself\u001b[39m\u001b[38;5;241m.\u001b[39m_fit_svd_solver \u001b[38;5;129;01min\u001b[39;00m [\u001b[38;5;124m\"\u001b[39m\u001b[38;5;124marpack\u001b[39m\u001b[38;5;124m\"\u001b[39m, \u001b[38;5;124m\"\u001b[39m\u001b[38;5;124mrandomized\u001b[39m\u001b[38;5;124m\"\u001b[39m]:\n\u001b[0;32m--> 485\u001b[0m     \u001b[38;5;28;01mreturn\u001b[39;00m \u001b[38;5;28;43mself\u001b[39;49m\u001b[38;5;241;43m.\u001b[39;49m\u001b[43m_fit_truncated\u001b[49m\u001b[43m(\u001b[49m\u001b[43mX\u001b[49m\u001b[43m,\u001b[49m\u001b[43m \u001b[49m\u001b[43mn_components\u001b[49m\u001b[43m,\u001b[49m\u001b[43m \u001b[49m\u001b[38;5;28;43mself\u001b[39;49m\u001b[38;5;241;43m.\u001b[39;49m\u001b[43m_fit_svd_solver\u001b[49m\u001b[43m)\u001b[49m\n\u001b[1;32m    486\u001b[0m \u001b[38;5;28;01melse\u001b[39;00m:\n\u001b[1;32m    487\u001b[0m     \u001b[38;5;28;01mraise\u001b[39;00m \u001b[38;5;167;01mValueError\u001b[39;00m(\n\u001b[1;32m    488\u001b[0m         \u001b[38;5;124m\"\u001b[39m\u001b[38;5;124mUnrecognized svd_solver=\u001b[39m\u001b[38;5;124m'\u001b[39m\u001b[38;5;132;01m{0}\u001b[39;00m\u001b[38;5;124m'\u001b[39m\u001b[38;5;124m\"\u001b[39m\u001b[38;5;241m.\u001b[39mformat(\u001b[38;5;28mself\u001b[39m\u001b[38;5;241m.\u001b[39m_fit_svd_solver)\n\u001b[1;32m    489\u001b[0m     )\n",
      "File \u001b[0;32m~/anaconda3/envs/rapids-22.08/lib/python3.9/site-packages/sklearn/decomposition/_pca.py:582\u001b[0m, in \u001b[0;36mPCA._fit_truncated\u001b[0;34m(self, X, n_components, svd_solver)\u001b[0m\n\u001b[1;32m    576\u001b[0m     \u001b[38;5;28;01mraise\u001b[39;00m \u001b[38;5;167;01mValueError\u001b[39;00m(\n\u001b[1;32m    577\u001b[0m         \u001b[38;5;124m\"\u001b[39m\u001b[38;5;124mn_components=\u001b[39m\u001b[38;5;132;01m%r\u001b[39;00m\u001b[38;5;124m must be of type int \u001b[39m\u001b[38;5;124m\"\u001b[39m\n\u001b[1;32m    578\u001b[0m         \u001b[38;5;124m\"\u001b[39m\u001b[38;5;124mwhen greater than or equal to 1, was of type=\u001b[39m\u001b[38;5;132;01m%r\u001b[39;00m\u001b[38;5;124m\"\u001b[39m\n\u001b[1;32m    579\u001b[0m         \u001b[38;5;241m%\u001b[39m (n_components, \u001b[38;5;28mtype\u001b[39m(n_components))\n\u001b[1;32m    580\u001b[0m     )\n\u001b[1;32m    581\u001b[0m \u001b[38;5;28;01melif\u001b[39;00m svd_solver \u001b[38;5;241m==\u001b[39m \u001b[38;5;124m\"\u001b[39m\u001b[38;5;124marpack\u001b[39m\u001b[38;5;124m\"\u001b[39m \u001b[38;5;129;01mand\u001b[39;00m n_components \u001b[38;5;241m==\u001b[39m \u001b[38;5;28mmin\u001b[39m(n_samples, n_features):\n\u001b[0;32m--> 582\u001b[0m     \u001b[38;5;28;01mraise\u001b[39;00m \u001b[38;5;167;01mValueError\u001b[39;00m(\n\u001b[1;32m    583\u001b[0m         \u001b[38;5;124m\"\u001b[39m\u001b[38;5;124mn_components=\u001b[39m\u001b[38;5;132;01m%r\u001b[39;00m\u001b[38;5;124m must be strictly less than \u001b[39m\u001b[38;5;124m\"\u001b[39m\n\u001b[1;32m    584\u001b[0m         \u001b[38;5;124m\"\u001b[39m\u001b[38;5;124mmin(n_samples, n_features)=\u001b[39m\u001b[38;5;132;01m%r\u001b[39;00m\u001b[38;5;124m with \u001b[39m\u001b[38;5;124m\"\u001b[39m\n\u001b[1;32m    585\u001b[0m         \u001b[38;5;124m\"\u001b[39m\u001b[38;5;124msvd_solver=\u001b[39m\u001b[38;5;124m'\u001b[39m\u001b[38;5;132;01m%s\u001b[39;00m\u001b[38;5;124m'\u001b[39m\u001b[38;5;124m\"\u001b[39m\n\u001b[1;32m    586\u001b[0m         \u001b[38;5;241m%\u001b[39m (n_components, \u001b[38;5;28mmin\u001b[39m(n_samples, n_features), svd_solver)\n\u001b[1;32m    587\u001b[0m     )\n\u001b[1;32m    589\u001b[0m random_state \u001b[38;5;241m=\u001b[39m check_random_state(\u001b[38;5;28mself\u001b[39m\u001b[38;5;241m.\u001b[39mrandom_state)\n\u001b[1;32m    591\u001b[0m \u001b[38;5;66;03m# Center data\u001b[39;00m\n",
      "\u001b[0;31mValueError\u001b[0m: n_components=28 must be strictly less than min(n_samples, n_features)=28 with svd_solver='arpack'"
     ]
    }
   ],
   "source": [
    "pca=PCA(n_components=28, svd_solver='arpack')\n",
    "pca.fit(r_data[s])"
   ]
  },
  {
   "cell_type": "code",
   "execution_count": 185,
   "id": "f34ffce4",
   "metadata": {},
   "outputs": [
    {
     "name": "stdout",
     "output_type": "stream",
     "text": [
      "[[ 0.          0.          0.          0.          0.00467482  0.0189849\n",
      "  -0.00285074 -0.03665262  0.02490196  0.04707306 -0.00107665 -0.13402013\n",
      "  -0.1023189  -0.10294881 -0.11657011 -0.13536754 -0.11549859 -0.1129203\n",
      "   0.00342775  0.0830618   0.22711417  0.39976176  0.4207045   0.41083542\n",
      "   0.40376647  0.38206309  0.1591139   0.        ]\n",
      " [ 0.          0.          0.          0.          0.06401389  0.14145851\n",
      "   0.0540939  -0.11584721 -0.23411655 -0.2417772  -0.25182097 -0.30763776\n",
      "  -0.2426861  -0.23909529 -0.21001264 -0.20565494 -0.14586785 -0.20648815\n",
      "  -0.35785298 -0.40368442 -0.32887668 -0.12370576 -0.06620432 -0.02714619\n",
      "   0.01490784  0.04216657  0.01559597  0.        ]]\n",
      "[0.84811047 0.41302765]\n"
     ]
    }
   ],
   "source": [
    "print(pca.components_)\n",
    "print(pca.explained_variance_)"
   ]
  },
  {
   "cell_type": "code",
   "execution_count": null,
   "id": "40227db1",
   "metadata": {},
   "outputs": [],
   "source": []
  }
 ],
 "metadata": {
  "kernelspec": {
   "display_name": "Python 3.6 (tensorflow)",
   "language": "python",
   "name": "tensorflow"
  },
  "language_info": {
   "codemirror_mode": {
    "name": "ipython",
    "version": 3
   },
   "file_extension": ".py",
   "mimetype": "text/x-python",
   "name": "python",
   "nbconvert_exporter": "python",
   "pygments_lexer": "ipython3",
   "version": "3.9.13"
  }
 },
 "nbformat": 4,
 "nbformat_minor": 5
}
