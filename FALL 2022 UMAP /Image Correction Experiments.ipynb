{
 "cells": [
  {
   "cell_type": "code",
   "execution_count": 2,
   "id": "90697a93",
   "metadata": {},
   "outputs": [
    {
     "name": "stderr",
     "output_type": "stream",
     "text": [
      "UsageError: the following arguments are required: filename\n"
     ]
    }
   ],
   "source": [
    "import umap\n",
    "import numpy as np\n",
    "import numpy.linalg as la\n",
    "import requests\n",
    "import os\n",
    "import datashader as ds\n",
    "import datashader.utils as utils\n",
    "import datashader.transfer_functions as tf\n",
    "import matplotlib.pyplot as plt\n",
    "import seaborn as sns\n",
    "import keras\n",
    "import math\n",
    "#Fashion mnist\n",
    "import pandas as pd  # data processing, CSV file I/O (e.g. pd.read_csv)\n",
    "from sklearn import model_selection\n",
    "from sklearn import linear_model, ensemble, tree, neighbors, svm\n",
    "from mnist.loader import MNIST\n",
    "%notebook"
   ]
  },
  {
   "cell_type": "code",
   "execution_count": 3,
   "id": "5c6a52bb",
   "metadata": {},
   "outputs": [
    {
     "name": "stdout",
     "output_type": "stream",
     "text": [
      "Fetching Fashion-Mnist\n",
      "=========================\n",
      "Fashion-Mnist loaded\n",
      "=========================\n"
     ]
    }
   ],
   "source": [
    "print(\"Fetching Fashion-Mnist\")\n",
    "print(\"=========================\")\n",
    "mndata = MNIST('../fashion-mnist/data/fashion') #added path extension for new file structure\n",
    "train, train_labels = mndata.load_training()\n",
    "test, test_labels = mndata.load_testing()\n",
    "data = np.array(np.vstack([train, test]), dtype=np.float64) / 255.0\n",
    "target = np.hstack([train_labels, test_labels])\n",
    "classes = [\n",
    "    'T-shirt/top',\n",
    "    'Trouser', \n",
    "    'Pullover',\n",
    "    'Dress',\n",
    "    'Coat',\n",
    "    'Sandal',\n",
    "    'Shirt',\n",
    "    'Sneaker',\n",
    "    'Bag',\n",
    "    'Ankle boot']\n",
    "print(\"Fashion-Mnist loaded\")\n",
    "print (\"=========================\")"
   ]
  },
  {
   "cell_type": "markdown",
   "id": "e2cfd10e",
   "metadata": {},
   "source": [
    "## Completion bar"
   ]
  },
  {
   "cell_type": "code",
   "execution_count": 3,
   "id": "7ff083c4",
   "metadata": {},
   "outputs": [],
   "source": [
    "import time, sys\n",
    "from IPython.display import clear_output\n",
    "\n",
    "def update_progress(progress):\n",
    "    bar_length = 20\n",
    "    if isinstance(progress, int):\n",
    "        progress = float(progress)\n",
    "    if not isinstance(progress, float):\n",
    "        progress = 0\n",
    "    if progress < 0:\n",
    "        progress = 0\n",
    "    if progress >= 1:\n",
    "        progress = 1\n",
    "\n",
    "    block = int(round(bar_length * progress))\n",
    "\n",
    "    clear_output(wait = True)\n",
    "    text = \"Progress: [{0}] {1:.1f}%\".format( \"#\" * block + \"-\" * (bar_length - block), progress * 100)\n",
    "    print(text)"
   ]
  },
  {
   "cell_type": "code",
   "execution_count": 4,
   "id": "c3f82c6b",
   "metadata": {},
   "outputs": [],
   "source": [
    "def rotate(theta,image):\n",
    "    \n",
    "    theta=math.radians(theta)                               #converting degrees to radians\n",
    "    cosine=math.cos(theta)\n",
    "    sine=math.sin(theta)\n",
    "                                 \n",
    "    \n",
    "    # Compute augmented image dimensions\n",
    "    new_height  = round(abs(image.shape[0]*cosine)+abs(image.shape[1]*sine))+1\n",
    "    new_width  = round(abs(image.shape[1]*cosine)+abs(image.shape[0]*sine))+1\n",
    "\n",
    "    #init temp matrix to be populated with individually rotated elements\n",
    "    output=np.zeros((new_height,new_width))\n",
    "    # Identify point of rotation in original image\n",
    "    original_centre_height   = round(((image.shape[0]+1)/2)-1)    #with respect to the original image\n",
    "    original_centre_width    = round(((image.shape[1]+1)/2)-1)    #with respect to the original image\n",
    "\n",
    "    # Find the centre of the new image that will be obtained\n",
    "    new_centre_height= round(((new_height+1)/2)-1)        #with respect to the new image\n",
    "    new_centre_width= round(((new_width+1)/2)-1)          #with respect to the new image\n",
    "    \n",
    "    \n",
    "    for i in range(image.shape[0]):\n",
    "        for j in range(image.shape[1]):\n",
    "            #co-ordinates of pixel with respect to the centre of original image\n",
    "            y=image.shape[0]-1-i-original_centre_height                   \n",
    "            x=image.shape[1]-1-j-original_centre_width \n",
    "\n",
    "            #Applying shear Transformation                     \n",
    "            new_y,new_x=shear(theta,x,y)\n",
    "            #Adjust coordinates to be relative to the new center after rotation\n",
    "            new_y=new_centre_height-new_y\n",
    "            new_x=new_centre_width-new_x\n",
    "\n",
    "            output[new_y,new_x]=image[i,j]                          #writing the pixels to the new destination in the output image\n",
    "    \"\"\"\n",
    "    #trim output: \n",
    "    # iterate through matrix, if there exists an element less than tau round it down to 0\n",
    "    tau=.1\n",
    "    for j in range(output.shape[0]):\n",
    "        for k in range(output.shape[0]):\n",
    "            if output[j][k]<tau:\n",
    "                output[j][k]=np.rint(output[j][k])\n",
    "    # identify indices of zero rows and columns and delete them from the final matrix( could be done with less lines )\n",
    "    idx = np.argwhere(np.all(output[..., :] == 0, axis=0))\n",
    "    o2 = np.delete(output, idx, axis=0)\n",
    "    idy = np.argwhere(np.all(output[..., :] == 0, axis=1))\n",
    "    o3= np.delete(o2, idy, axis=1)\n",
    "    return o3           \n",
    "    \"\"\"\n",
    "    return output"
   ]
  },
  {
   "cell_type": "code",
   "execution_count": 5,
   "id": "7a1023a3",
   "metadata": {},
   "outputs": [],
   "source": [
    "# A shear is used here to avoid issues with anti aliasing, method described by \n",
    "#vhttps://www.ocf.berkeley.edu/~fricke/projects/israel/paeth/rotation_by_shearing.html\n",
    "def shear(angle,x,y):\n",
    "    '''\n",
    "    |1  -tan(𝜃/2) |  |1        0|  |1  -tan(𝜃/2) | \n",
    "    |0      1     |  |sin(𝜃)   1|  |0      1     |\n",
    "    '''\n",
    "    \n",
    "    tangent=math.tan(angle/2)\n",
    "    new_x=round(x-y*tangent)\n",
    "    new_y=y\n",
    "    \n",
    "    new_y=round(new_x*math.sin(angle)+new_y)      #since there is no change in new_x according to the shear matrix\n",
    "    new_x=round(new_x-new_y*tangent)              #since there is no change in new_y according to the shear matrix\n",
    "    \n",
    "    return new_y,new_x"
   ]
  },
  {
   "cell_type": "code",
   "execution_count": 6,
   "id": "04c1a944",
   "metadata": {},
   "outputs": [
    {
     "data": {
      "image/png": "[encoded data removed]",
      "text/plain": [
       "<Figure size 576x432 with 1 Axes>"
      ]
     },
     "metadata": {
      "needs_background": "light"
     },
     "output_type": "display_data"
    },
    {
     "name": "stdout",
     "output_type": "stream",
     "text": [
      "(41, 41)\n"
     ]
    },
    {
     "data": {
      "image/png": "[encoded data removed]",
      "text/plain": [
       "<Figure size 432x288 with 1 Axes>"
      ]
     },
     "metadata": {
      "needs_background": "light"
     },
     "output_type": "display_data"
    }
   ],
   "source": [
    "#testing rotations on sample image \n",
    "\n",
    "\n",
    "l=np.reshape(data[1],(28,28))\n",
    "fig = plt.figure( figsize=(8, 6))\n",
    "plt.imshow(l, cmap='viridis')\n",
    "plt.show()\n",
    "\n",
    "#fails for 5,6 degrees for some reason, debugging needed \n",
    "i=rotate(45,l)\n",
    "print(i.shape)\n",
    "\n",
    "plt.imshow(i, cmap='viridis')\n",
    "plt.show()"
   ]
  },
  {
   "cell_type": "markdown",
   "id": "3c49d972",
   "metadata": {},
   "source": [
    "## Experiment Design "
   ]
  },
  {
   "cell_type": "markdown",
   "id": "269fcbd6",
   "metadata": {},
   "source": [
    "The following experiment is aimed at investigating different methodologies of correcting rotated images back to their canonical state. This investigation is being conducted in order to determine the worst case solution for improving umaps ability to handle rotational augmentations in the data. A high time complexity is expected most likely a quadratic addition as we will be preforming an additional evaluation for each step. Modifications will be done locally at first to test proficiency of the algorithm that scaled to a custom version of the umap embedding function where we can see how the sourrounding class structure handles modifications to the data. Today 9/20's develeopment process is cenetered around the goal of the local problem of identifying 1-3 different ways of correcting for rotational augmentations"
   ]
  },
  {
   "cell_type": "code",
   "execution_count": 54,
   "id": "d8eac772",
   "metadata": {},
   "outputs": [
    {
     "data": {
      "image/png": "[encoded data removed]",
      "text/plain": [
       "<Figure size 432x288 with 1 Axes>"
      ]
     },
     "metadata": {
      "needs_background": "light"
     },
     "output_type": "display_data"
    },
    {
     "data": {
      "image/png": "[encoded data removed]",
      "text/plain": [
       "<Figure size 432x288 with 1 Axes>"
      ]
     },
     "metadata": {
      "needs_background": "light"
     },
     "output_type": "display_data"
    },
    {
     "data": {
      "image/png": "[encoded data removed]",
      "text/plain": [
       "<Figure size 432x288 with 1 Axes>"
      ]
     },
     "metadata": {
      "needs_background": "light"
     },
     "output_type": "display_data"
    },
    {
     "data": {
      "image/png": "[encoded data removed]",
      "text/plain": [
       "<Figure size 432x288 with 1 Axes>"
      ]
     },
     "metadata": {
      "needs_background": "light"
     },
     "output_type": "display_data"
    },
    {
     "data": {
      "image/png": "[encoded data removed]",
      "text/plain": [
       "<Figure size 432x288 with 1 Axes>"
      ]
     },
     "metadata": {
      "needs_background": "light"
     },
     "output_type": "display_data"
    }
   ],
   "source": [
    "#define control samples for each clothing type \n",
    "shirt_control=np.reshape(data[1],(28,28))\n",
    "plt.imshow(shirt_control, cmap='viridis')\n",
    "plt.show()\n",
    "dress_control=np.reshape(data[2],(28,28))\n",
    "plt.imshow(dress_control, cmap='viridis')\n",
    "plt.show()\n",
    "dress_control=np.reshape(data[3],(28,28))\n",
    "plt.imshow(dress_control, cmap='viridis')\n",
    "plt.show()\n",
    "dress_control=np.reshape(data[4],(28,28))\n",
    "plt.imshow(dress_control, cmap='viridis')\n",
    "plt.show()\n",
    "dress_control=np.reshape(data[5],(28,28))\n",
    "plt.imshow(dress_control, cmap='viridis')\n",
    "plt.show()\n"
   ]
  },
  {
   "cell_type": "code",
   "execution_count": null,
   "id": "1f14adaa",
   "metadata": {},
   "outputs": [],
   "source": []
  }
 ],
 "metadata": {
  "kernelspec": {
   "display_name": "Python 3.6 (tensorflow)",
   "language": "python",
   "name": "tensorflow"
  },
  "language_info": {
   "codemirror_mode": {
    "name": "ipython",
    "version": 3
   },
   "file_extension": ".py",
   "mimetype": "text/x-python",
   "name": "python",
   "nbconvert_exporter": "python",
   "pygments_lexer": "ipython3",
   "version": "3.9.13"
  }
 },
 "nbformat": 4,
 "nbformat_minor": 5
}
