{
 "cells": [
  {
   "cell_type": "code",
   "execution_count": 1,
   "id": "90697a93",
   "metadata": {},
   "outputs": [
    {
     "name": "stderr",
     "output_type": "stream",
     "text": [
      "UsageError: the following arguments are required: filename\n"
     ]
    }
   ],
   "source": [
    "import umap\n",
    "import numpy as np\n",
    "import numpy.linalg as la\n",
    "import requests\n",
    "import os\n",
    "import datashader as ds\n",
    "import datashader.utils as utils\n",
    "import datashader.transfer_functions as tf\n",
    "import matplotlib.pyplot as plt\n",
    "import seaborn as sns\n",
    "import keras\n",
    "import math\n",
    "#Fashion mnist\n",
    "import pandas as pd  # data processing, CSV file I/O (e.g. pd.read_csv)\n",
    "from sklearn import model_selection\n",
    "from sklearn import linear_model, ensemble, tree, neighbors, svm\n",
    "from mnist.loader import MNIST\n",
    "%notebook"
   ]
  },
  {
   "cell_type": "code",
   "execution_count": 2,
   "id": "5c6a52bb",
   "metadata": {},
   "outputs": [
    {
     "name": "stdout",
     "output_type": "stream",
     "text": [
      "Fetching Fashion-Mnist\n",
      "=========================\n",
      "Fashion-Mnist loaded\n",
      "=========================\n"
     ]
    }
   ],
   "source": [
    "print(\"Fetching Fashion-Mnist\")\n",
    "print(\"=========================\")\n",
    "mndata = MNIST('../fashion-mnist/data/fashion') #added path extension for new file structure\n",
    "train, train_labels = mndata.load_training()\n",
    "test, test_labels = mndata.load_testing()\n",
    "data = np.array(np.vstack([train, test]), dtype=np.float64) / 255.0\n",
    "target = np.hstack([train_labels, test_labels])\n",
    "classes = [\n",
    "    'T-shirt/top',\n",
    "    'Trouser', \n",
    "    'Pullover',\n",
    "    'Dress',\n",
    "    'Coat',\n",
    "    'Sandal',\n",
    "    'Shirt',\n",
    "    'Sneaker',\n",
    "    'Bag',\n",
    "    'Ankle boot']\n",
    "print(\"Fashion-Mnist loaded\")\n",
    "print (\"=========================\")"
   ]
  },
  {
   "cell_type": "code",
   "execution_count": 26,
   "id": "c03f8143",
   "metadata": {},
   "outputs": [
    {
     "data": {
      "text/plain": [
       "2"
      ]
     },
     "execution_count": 26,
     "metadata": {},
     "output_type": "execute_result"
    }
   ],
   "source": [
    "test_labels[1]"
   ]
  },
  {
   "cell_type": "markdown",
   "id": "e2cfd10e",
   "metadata": {},
   "source": [
    "## Completion bar"
   ]
  },
  {
   "cell_type": "code",
   "execution_count": 3,
   "id": "7ff083c4",
   "metadata": {},
   "outputs": [],
   "source": [
    "import time, sys\n",
    "from IPython.display import clear_output\n",
    "\n",
    "def update_progress(progress):\n",
    "    bar_length = 20\n",
    "    if isinstance(progress, int):\n",
    "        progress = float(progress)\n",
    "    if not isinstance(progress, float):\n",
    "        progress = 0\n",
    "    if progress < 0:\n",
    "        progress = 0\n",
    "    if progress >= 1:\n",
    "        progress = 1\n",
    "\n",
    "    block = int(round(bar_length * progress))\n",
    "\n",
    "    clear_output(wait = True)\n",
    "    text = \"Progress: [{0}] {1:.1f}%\".format( \"#\" * block + \"-\" * (bar_length - block), progress * 100)\n",
    "    print(text)"
   ]
  },
  {
   "cell_type": "markdown",
   "id": "bb309a75",
   "metadata": {},
   "source": [
    "## Rotation Algorithm"
   ]
  },
  {
   "cell_type": "code",
   "execution_count": 4,
   "id": "c3f82c6b",
   "metadata": {},
   "outputs": [],
   "source": [
    "def rotate(theta,image):\n",
    "    \n",
    "    theta=math.radians(theta)                               #converting degrees to radians\n",
    "    cosine=math.cos(theta)\n",
    "    sine=math.sin(theta)\n",
    "                                 \n",
    "    \n",
    "    # Compute augmented image dimensions\n",
    "    new_height  = round(abs(image.shape[0]*cosine)+abs(image.shape[1]*sine))+1\n",
    "    new_width  = round(abs(image.shape[1]*cosine)+abs(image.shape[0]*sine))+1\n",
    "\n",
    "    #init temp matrix to be populated with individually rotated elements\n",
    "    output=np.zeros((new_height,new_width))\n",
    "    # Identify point of rotation in original image\n",
    "    original_centre_height   = round(((image.shape[0]+1)/2)-1)    #with respect to the original image\n",
    "    original_centre_width    = round(((image.shape[1]+1)/2)-1)    #with respect to the original image\n",
    "\n",
    "    # Find the centre of the new image that will be obtained\n",
    "    new_centre_height= round(((new_height+1)/2)-1)        #with respect to the new image\n",
    "    new_centre_width= round(((new_width+1)/2)-1)          #with respect to the new image\n",
    "    \n",
    "    \n",
    "    for i in range(image.shape[0]):\n",
    "        for j in range(image.shape[1]):\n",
    "            #co-ordinates of pixel with respect to the centre of original image\n",
    "            y=image.shape[0]-1-i-original_centre_height                   \n",
    "            x=image.shape[1]-1-j-original_centre_width \n",
    "\n",
    "            #Applying shear Transformation                     \n",
    "            new_y,new_x=shear(theta,x,y)\n",
    "            #Adjust coordinates to be relative to the new center after rotation\n",
    "            new_y=new_centre_height-new_y\n",
    "            new_x=new_centre_width-new_x\n",
    "\n",
    "            output[new_y,new_x]=image[i,j]                          #writing the pixels to the new destination in the output image\n",
    "    \"\"\"\n",
    "    #trim output: \n",
    "    # iterate through matrix, if there exists an element less than tau round it down to 0\n",
    "    tau=.1\n",
    "    for j in range(output.shape[0]):\n",
    "        for k in range(output.shape[0]):\n",
    "            if output[j][k]<tau:\n",
    "                output[j][k]=np.rint(output[j][k])\n",
    "    # identify indices of zero rows and columns and delete them from the final matrix( could be done with less lines )\n",
    "    idx = np.argwhere(np.all(output[..., :] == 0, axis=0))\n",
    "    o2 = np.delete(output, idx, axis=0)\n",
    "    idy = np.argwhere(np.all(output[..., :] == 0, axis=1))\n",
    "    o3= np.delete(o2, idy, axis=1)\n",
    "    return o3           \n",
    "    \"\"\"\n",
    "    return output"
   ]
  },
  {
   "cell_type": "code",
   "execution_count": 5,
   "id": "7a1023a3",
   "metadata": {},
   "outputs": [],
   "source": [
    "# A shear is used here to avoid issues with anti aliasing, method described by \n",
    "#vhttps://www.ocf.berkeley.edu/~fricke/projects/israel/paeth/rotation_by_shearing.html\n",
    "def shear(angle,x,y):\n",
    "    '''\n",
    "    |1  -tan(𝜃/2) |  |1        0|  |1  -tan(𝜃/2) | \n",
    "    |0      1     |  |sin(𝜃)   1|  |0      1     |\n",
    "    '''\n",
    "    \n",
    "    tangent=math.tan(angle/2)\n",
    "    new_x=round(x-y*tangent)\n",
    "    new_y=y\n",
    "    \n",
    "    new_y=round(new_x*math.sin(angle)+new_y)      #since there is no change in new_x according to the shear matrix\n",
    "    new_x=round(new_x-new_y*tangent)              #since there is no change in new_y according to the shear matrix\n",
    "    \n",
    "    return new_y,new_x"
   ]
  },
  {
   "cell_type": "code",
   "execution_count": 6,
   "id": "04c1a944",
   "metadata": {},
   "outputs": [
    {
     "data": {
      "image/png": "[encoded data removed]",
      "text/plain": [
       "<Figure size 576x432 with 1 Axes>"
      ]
     },
     "metadata": {
      "needs_background": "light"
     },
     "output_type": "display_data"
    },
    {
     "name": "stdout",
     "output_type": "stream",
     "text": [
      "(41, 41)\n"
     ]
    },
    {
     "data": {
      "image/png": "[encoded data removed]",
      "text/plain": [
       "<Figure size 432x288 with 1 Axes>"
      ]
     },
     "metadata": {
      "needs_background": "light"
     },
     "output_type": "display_data"
    }
   ],
   "source": [
    "#testing rotations on sample image \n",
    "\n",
    "\n",
    "l=np.reshape(data[1],(28,28))\n",
    "fig = plt.figure( figsize=(8, 6))\n",
    "plt.imshow(l, cmap='viridis')\n",
    "plt.show()\n",
    "\n",
    "#fails for 5,6 degrees for some reason, debugging needed \n",
    "i=rotate(45,l)\n",
    "print(i.shape)\n",
    "\n",
    "plt.imshow(i, cmap='viridis')\n",
    "plt.show()"
   ]
  },
  {
   "cell_type": "markdown",
   "id": "3c49d972",
   "metadata": {},
   "source": [
    "## Experiment Design "
   ]
  },
  {
   "cell_type": "markdown",
   "id": "269fcbd6",
   "metadata": {},
   "source": [
    "The following experiment is aimed at investigating different methodologies of correcting rotated images back to their canonical state. This investigation is being conducted in order to determine the worst case solution for improving umaps ability to handle rotational augmentations in the data. A high time complexity is expected most likely a quadratic addition as we will be preforming an additional evaluation for each step. Modifications will be done locally at first to test proficiency of the algorithm that scaled to a custom version of the umap embedding function where we can see how the sourrounding class structure handles modifications to the data. Today 9/20's develeopment process is cenetered around the goal of the local problem of identifying 1-3 different ways of correcting for rotational augmentations"
   ]
  },
  {
   "cell_type": "code",
   "execution_count": 7,
   "id": "d8eac772",
   "metadata": {},
   "outputs": [
    {
     "data": {
      "image/png": "[encoded data removed]",
      "text/plain": [
       "<Figure size 432x288 with 1 Axes>"
      ]
     },
     "metadata": {
      "needs_background": "light"
     },
     "output_type": "display_data"
    },
    {
     "data": {
      "image/png": "[encoded data removed]",
      "text/plain": [
       "<Figure size 432x288 with 1 Axes>"
      ]
     },
     "metadata": {
      "needs_background": "light"
     },
     "output_type": "display_data"
    },
    {
     "data": {
      "image/png": "[encoded data removed]",
      "text/plain": [
       "<Figure size 432x288 with 1 Axes>"
      ]
     },
     "metadata": {
      "needs_background": "light"
     },
     "output_type": "display_data"
    },
    {
     "data": {
      "image/png": "[encoded data removed]",
      "text/plain": [
       "<Figure size 432x288 with 1 Axes>"
      ]
     },
     "metadata": {
      "needs_background": "light"
     },
     "output_type": "display_data"
    },
    {
     "data": {
      "image/png": "[encoded data removed]",
      "text/plain": [
       "<Figure size 432x288 with 1 Axes>"
      ]
     },
     "metadata": {
      "needs_background": "light"
     },
     "output_type": "display_data"
    },
    {
     "data": {
      "image/png": "[encoded data removed]",
      "text/plain": [
       "<Figure size 432x288 with 1 Axes>"
      ]
     },
     "metadata": {
      "needs_background": "light"
     },
     "output_type": "display_data"
    },
    {
     "data": {
      "image/png": "[encoded data removed]",
      "text/plain": [
       "<Figure size 432x288 with 1 Axes>"
      ]
     },
     "metadata": {
      "needs_background": "light"
     },
     "output_type": "display_data"
    },
    {
     "data": {
      "image/png": "[encoded data removed]",
      "text/plain": [
       "<Figure size 432x288 with 1 Axes>"
      ]
     },
     "metadata": {
      "needs_background": "light"
     },
     "output_type": "display_data"
    },
    {
     "data": {
      "image/png": "[encoded data removed]",
      "text/plain": [
       "<Figure size 432x288 with 1 Axes>"
      ]
     },
     "metadata": {
      "needs_background": "light"
     },
     "output_type": "display_data"
    },
    {
     "data": {
      "image/png": "[encoded data removed]",
      "text/plain": [
       "<Figure size 432x288 with 1 Axes>"
      ]
     },
     "metadata": {
      "needs_background": "light"
     },
     "output_type": "display_data"
    }
   ],
   "source": [
    "#define control samples for each clothing type \n",
    "tshirt_control=data[1]\n",
    "plt.imshow(np.reshape(data[1],(28,28)), cmap='viridis')\n",
    "plt.show()\n",
    "\n",
    "dress_control=np.reshape(data[3],(28,28))\n",
    "plt.imshow(dress_control, cmap='viridis')\n",
    "plt.show()\n",
    "\n",
    "trouser_control=np.reshape(data[21],(28,28))\n",
    "plt.imshow(trouser_control, cmap='viridis')\n",
    "plt.show()\n",
    "#####\n",
    "shirt_control=np.reshape(data[2222],(28,28))\n",
    "plt.imshow(shirt_control, cmap='viridis')\n",
    "plt.show()\n",
    "\n",
    "pullover_control=np.reshape(data[5],(28,28))\n",
    "plt.imshow(pullover_control, cmap='viridis')\n",
    "plt.show()\n",
    "\n",
    "sneaker_control=np.reshape(data[6],(28,28))\n",
    "plt.imshow(sneaker_control, cmap='viridis')\n",
    "plt.show()\n",
    "####\n",
    "ankle_control=np.reshape(data[111],(28,28))\n",
    "plt.imshow(ankle_control, cmap='viridis')\n",
    "plt.show()\n",
    "\n",
    "sandal_control=np.reshape(data[12],(28,28))\n",
    "plt.imshow(sandal_control, cmap='viridis')\n",
    "plt.show()\n",
    "\n",
    "coat_control=np.reshape(data[22],(28,28))\n",
    "plt.imshow(coat_control, cmap='viridis')\n",
    "plt.show()\n",
    "####\n",
    "bag_control=np.reshape(data[100],(28,28))\n",
    "plt.imshow(bag_control, cmap='viridis')\n",
    "plt.show()"
   ]
  },
  {
   "cell_type": "code",
   "execution_count": 8,
   "id": "1f14adaa",
   "metadata": {},
   "outputs": [
    {
     "name": "stdout",
     "output_type": "stream",
     "text": [
      "<class 'numpy.ndarray'>\n",
      "(28, 28)\n"
     ]
    }
   ],
   "source": [
    "control_samples=[\n",
    "    tshirt_control,\n",
    "    dress_control,\n",
    "    trouser_control,\n",
    "    shirt_control,\n",
    "    pullover_control,\n",
    "    sneaker_control,\n",
    "    ankle_control,\n",
    "    sandal_control,\n",
    "    coat_control,\n",
    "    bag_control\n",
    "]\n",
    "print(type(control_samples[1]))\n",
    "print(np.shape(control_samples[1]))"
   ]
  },
  {
   "cell_type": "code",
   "execution_count": 9,
   "id": "b63164c3",
   "metadata": {},
   "outputs": [
    {
     "name": "stdout",
     "output_type": "stream",
     "text": [
      "test\n"
     ]
    },
    {
     "data": {
      "text/plain": [
       "<matplotlib.image.AxesImage at 0x7fe1845f27f0>"
      ]
     },
     "execution_count": 9,
     "metadata": {},
     "output_type": "execute_result"
    },
    {
     "data": {
      "image/png": "[encoded data removed]",
      "text/plain": [
       "<Figure size 1440x864 with 2 Axes>"
      ]
     },
     "metadata": {
      "needs_background": "light"
     },
     "output_type": "display_data"
    }
   ],
   "source": [
    "L_singular_vectors=[]\n",
    "Sigma_matrices=[]\n",
    "R_singular_vectors=[]\n",
    "sample_digit=1\n",
    "#Plot starting data for comparison to SVD reconstruction\n",
    "fig = plt.figure(figsize=(20, 12))\n",
    "fig.add_subplot(2, 2, 1)\n",
    "plt.imshow(data[sample_digit].reshape(28,28), cmap='Greys', interpolation='nearest')\n",
    "\n",
    "for i in range(10):\n",
    "    #compute svd for the digit  i \n",
    "    u,s,v = la.svd(control_samples[i].reshape(28,28),full_matrices=False)\n",
    "    L_singular_vectors.append(u.T)\n",
    "    Sigma_matrices.append(s)# use np.diag(S) for nxn matrix of singular values \n",
    "    R_singular_vectors.append(v)\n",
    "Us=np.array(L_singular_vectors).astype(float)\n",
    "Ss=np.array(Sigma_matrices).astype(float)\n",
    "Vs=np.array(R_singular_vectors).astype(float)\n",
    "print(\"test\")\n",
    "fig.add_subplot(2, 2, 2)\n",
    "plt.imshow(Us[sample_digit-1].T*Ss[sample_digit-1]@Vs[sample_digit-1], cmap='Greys', interpolation='nearest')"
   ]
  },
  {
   "cell_type": "code",
   "execution_count": 73,
   "id": "07f0ff93",
   "metadata": {},
   "outputs": [
    {
     "name": "stdout",
     "output_type": "stream",
     "text": [
      "7840\n",
      "280\n",
      "7840\n"
     ]
    }
   ],
   "source": [
    "print(np.size(Us))\n",
    "print(np.size(Ss))\n",
    "print(np.size(Vs))"
   ]
  },
  {
   "cell_type": "markdown",
   "id": "2ad596de",
   "metadata": {},
   "source": [
    "# Classifier function"
   ]
  },
  {
   "cell_type": "code",
   "execution_count": 10,
   "id": "6ca7ec49",
   "metadata": {},
   "outputs": [],
   "source": [
    "# Classification function, returns the classification of a given sample based on the norm of the orthogonal complement\n",
    "# this methodology allows us to quantify similarity by examining how far away each test sample is from the orthonormal basis \n",
    "# associated with each digit matrix picking the one with the smallest distance\n",
    "\n",
    "def classify_y(Us, y, r):\n",
    "    min_val = float('inf')\n",
    "    classification = 0\n",
    "    U_rs = [U[:r] for U in Us]\n",
    "    for i,U_r in enumerate(U_rs):\n",
    "        x_i = la.solve(U_r@U_r.T,U_r@y)\n",
    "        diff = la.norm(y-U_r.T@x_i)\n",
    "        if diff < min_val:\n",
    "            min_val = diff\n",
    "            if(i==0):\n",
    "                classification=10\n",
    "            else:\n",
    "                classification = i\n",
    "    return classification"
   ]
  },
  {
   "cell_type": "code",
   "execution_count": 11,
   "id": "15f7e383",
   "metadata": {},
   "outputs": [],
   "source": [
    "def countX(lst, x):\n",
    "    count = 0\n",
    "    for ele in lst:\n",
    "        if (ele == x):\n",
    "            count = count + 1\n",
    "    return count"
   ]
  },
  {
   "cell_type": "code",
   "execution_count": 12,
   "id": "1a90cbd4",
   "metadata": {},
   "outputs": [],
   "source": [
    "# A small printing function used for printing clothes as human interpretable images\n",
    "def print_item(y):\n",
    "    fig = plt.figure(figsize=(20, 12))\n",
    "    fig.add_subplot(2, 2, 1)\n",
    "    plt.imshow(y.reshape(28,28), cmap=plt.get_cmap('viridis')) \n",
    "    plt.grid()\n",
    "    plt.show()"
   ]
  },
  {
   "cell_type": "code",
   "execution_count": 71,
   "id": "0d039b95",
   "metadata": {},
   "outputs": [
    {
     "name": "stdout",
     "output_type": "stream",
     "text": [
      "testing  4  basis vectors\n",
      "===============\n",
      "testing  8  basis vectors\n",
      "===============\n",
      "testing  12  basis vectors\n",
      "===============\n",
      "testing  16  basis vectors\n",
      "===============\n",
      "testing  20  basis vectors\n",
      "===============\n",
      "testing  24  basis vectors\n",
      "===============\n",
      "testing  28  basis vectors\n",
      "===============\n"
     ]
    }
   ],
   "source": [
    "#Classify the test digits using the SVD of the training digits for varying numbers of basis vectors. \n",
    "#store number of incorrect samples into a matrix to be plotted at a later date\n",
    "incorrect_samples=0\n",
    "basis_performance=[]\n",
    "Basis_errors=[[],[],[],[],[],[],[]]\n",
    "\n",
    "for j in range(0,7):\n",
    "    print(\"testing \",4*j+4,\" basis vectors\")\n",
    "    incorrect_classification=[]\n",
    "    Classifications=[]\n",
    "    num_basis_vecs=4*j\n",
    "    \n",
    "    #classify test data\n",
    "    for i in range(1000):\n",
    "        Classifications.append(classify_y(Us,data[i].reshape(28,28),num_basis_vecs)) \n",
    "        \n",
    "    #count failed classifications\n",
    "    for i in range(1000):\n",
    "        if Classifications[i]!=test_labels[i]:\n",
    "            incorrect_classification.append(Classifications[i])\n",
    "            incorrect_samples=incorrect_samples+1  \n",
    "            \n",
    "    for i in range(0,10):\n",
    "      \n",
    "        if i==0:\n",
    "            error=countX(incorrect_classification,10)/incorrect_samples\n",
    "            #print(\"Percentage of errors that are 0:\",error)\n",
    "        else:\n",
    "            error=countX(incorrect_classification,i)/incorrect_samples\n",
    "            #print(\"Percentage of errors that are\",i,\":\",error)\n",
    "        Basis_errors[j].append(error)   \n",
    "    \n",
    "   \n",
    "    #cache performance for a set of basis vectors and reset for the next attempt        \n",
    "    basis_performance.append(incorrect_samples)\n",
    "    incorrect_samples=0\n",
    "    print(\"===============\")"
   ]
  },
  {
   "cell_type": "code",
   "execution_count": 72,
   "id": "52633f3c",
   "metadata": {},
   "outputs": [
    {
     "name": "stdout",
     "output_type": "stream",
     "text": [
      "[1000, 911, 902, 913, 928, 945, 938]\n"
     ]
    }
   ],
   "source": [
    "print(basis_performance)"
   ]
  },
  {
   "cell_type": "markdown",
   "id": "ac39e555",
   "metadata": {},
   "source": [
    "## Rotating 50%  by 200 degrees"
   ]
  },
  {
   "cell_type": "code",
   "execution_count": 32,
   "id": "761e2d88",
   "metadata": {},
   "outputs": [
    {
     "name": "stdout",
     "output_type": "stream",
     "text": [
      "Progress: [####################] 99.5%\n"
     ]
    },
    {
     "name": "stderr",
     "output_type": "stream",
     "text": [
      "IOPub message rate exceeded.\n",
      "The notebook server will temporarily stop sending output\n",
      "to the client in order to avoid crashing it.\n",
      "To change this limit, set the config variable\n",
      "`--NotebookApp.iopub_msg_rate_limit`.\n",
      "\n",
      "Current values:\n",
      "NotebookApp.iopub_msg_rate_limit=1000.0 (msgs/sec)\n",
      "NotebookApp.rate_limit_window=3.0 (secs)\n",
      "\n"
     ]
    }
   ],
   "source": [
    "#rotating 50% of the data by 150deg\n",
    "theta=200\n",
    "temp=rotate(theta,np.reshape(data[1],(28,28)))\n",
    "\n",
    "sample_rotation_dim=np.matrix.flatten(temp).shape[0]\n",
    "r200_data=np.zeros((data.shape[0],sample_rotation_dim)) #casting all data to the size of rotation even for those not rotated to ensure homegenity in data\n",
    "\n",
    "for i in range(np.shape(data)[0]):  \n",
    "    if(i%2==0):\n",
    "        temp=rotate(theta,np.reshape(data[i],(28,28)));\n",
    "        r200_data[i]=np.matrix.flatten(temp);\n",
    "        update_progress(i / np.shape(data)[0])"
   ]
  },
  {
   "cell_type": "code",
   "execution_count": 33,
   "id": "83df5f72",
   "metadata": {
    "scrolled": false
   },
   "outputs": [],
   "source": [
    "#for i in range(np.shape(data)[0]):     \n",
    "  #  print(np.shape(r200_data[i]))\n",
    "    # debug loop^ "
   ]
  },
  {
   "cell_type": "markdown",
   "id": "da917ce9",
   "metadata": {},
   "source": [
    "## Padding Singular vectors with zeros "
   ]
  },
  {
   "cell_type": "markdown",
   "id": "16764f95",
   "metadata": {},
   "source": [
    "To reuse the same svd decompositions we will need to pad the singular vector matrices U and V t with zeros to ensure dimensionality agreement"
   ]
  },
  {
   "cell_type": "code",
   "execution_count": 68,
   "id": "aa6a759a",
   "metadata": {},
   "outputs": [
    {
     "name": "stdout",
     "output_type": "stream",
     "text": [
      "(28, 28)\n"
     ]
    },
    {
     "data": {
      "image/png": "[encoded data removed]",
      "text/plain": [
       "<Figure size 432x288 with 1 Axes>"
      ]
     },
     "metadata": {
      "needs_background": "light"
     },
     "output_type": "display_data"
    }
   ],
   "source": [
    "print(np.shape(Us[1]))\n",
    "plt.imshow(Us[1], cmap='viridis')\n",
    "plt.show()"
   ]
  },
  {
   "cell_type": "code",
   "execution_count": 49,
   "id": "050e1d35",
   "metadata": {},
   "outputs": [
    {
     "name": "stdout",
     "output_type": "stream",
     "text": [
      "(1369,)\n",
      "37.0 37.0\n",
      "(10, 28, 28)\n",
      "(10, 37, 37)\n"
     ]
    }
   ],
   "source": [
    "print(np.shape(r200_data[1]))\n",
    "n=np.shape(r200_data[1])[0]\n",
    "n=math.sqrt(n)\n",
    "m=n\n",
    "Us_R=np.zeros((10,int(m),int(n)))\n",
    "print(n,m)\n",
    "print(np.shape(Us))\n",
    "\n",
    "for i in range(np.shape(Us)[0]):\n",
    "    #print(math.sqrt(r200_data[i].shape[0]))\n",
    "    #temp=np.reshape(r200_data[i],(int(math.sqrt(r200_data[i].shape[0])),int(math.sqrt(r200_data[i].shape[0]))))\n",
    "    #print(np.shape(temp))\n",
    "    Us_R[i]= np.pad(Us[i], [(0, int(m)-np.shape(Us)[1]), (0, int(n)-np.shape(Us)[1])], mode='constant')\n",
    "    \n",
    "print(np.shape(Us_R))"
   ]
  },
  {
   "cell_type": "code",
   "execution_count": 115,
   "id": "c9c4d9a1",
   "metadata": {},
   "outputs": [
    {
     "name": "stdout",
     "output_type": "stream",
     "text": [
      "testing  4  basis vectors\n",
      "===============\n",
      "testing  8  basis vectors\n",
      "===============\n",
      "testing  12  basis vectors\n",
      "===============\n",
      "testing  16  basis vectors\n",
      "===============\n",
      "testing  20  basis vectors\n",
      "===============\n",
      "testing  24  basis vectors\n",
      "===============\n",
      "testing  28  basis vectors\n",
      "===============\n"
     ]
    }
   ],
   "source": [
    "#Classify the test digits using the SVD of the training digits for varying numbers of basis vectors. \n",
    "#store number of incorrect samples into a matrix to be plotted at a later date\n",
    "incorrect_samples=0\n",
    "basis_performance_rotations=[]\n",
    "Basis_errors=[[],[],[],[],[],[],[]]\n",
    "\n",
    "for j in range(0,7):\n",
    "    print(\"testing \",4*j+4,\" basis vectors\")\n",
    "    incorrect_classification=[]\n",
    "    Classifications=[]\n",
    "    num_basis_vecs=4*j\n",
    "    \n",
    "    #classify test data\n",
    "    for i in range(10000):\n",
    "        Classifications.append(classify_y(Us_R,r200_data[i].reshape(37,37),num_basis_vecs)) \n",
    "        \n",
    "    #count failed classifications\n",
    "    for i in range(10000):\n",
    "        if Classifications[i]!=test_labels[i]:\n",
    "            incorrect_classification.append(Classifications[i])\n",
    "            #if(i%42==0):\n",
    "                #print_item(data[i])\n",
    "                #print(Classifications[i],test_labels[i])\n",
    "            incorrect_samples=incorrect_samples+1  \n",
    "            \n",
    "    for i in range(0,10):\n",
    "      \n",
    "        if i==0:\n",
    "            error=countX(incorrect_classification,10)/incorrect_samples\n",
    "            #print(\"Percentage of errors that are 0:\",error)\n",
    "        else:\n",
    "            error=countX(incorrect_classification,i)/incorrect_samples\n",
    "            #print(\"Percentage of errors that are\",i,\":\",error)\n",
    "        Basis_errors[j].append(error)   \n",
    "    \n",
    "   \n",
    "    #cache performance for a set of basis vectors and reset for the next attempt        \n",
    "    basis_performance_rotations.append(incorrect_samples)\n",
    "    incorrect_samples=0\n",
    "    print(\"===============\")"
   ]
  },
  {
   "cell_type": "code",
   "execution_count": 116,
   "id": "bc7394ab",
   "metadata": {},
   "outputs": [
    {
     "name": "stdout",
     "output_type": "stream",
     "text": [
      "[1000, 911, 902, 913, 928, 945, 938]\n",
      "[10000, 9493, 9488, 9524, 9520, 9631, 9651]\n"
     ]
    }
   ],
   "source": [
    "print(basis_performance)\n",
    "print(basis_performance_rotations)"
   ]
  },
  {
   "cell_type": "code",
   "execution_count": 82,
   "id": "88321b98",
   "metadata": {},
   "outputs": [
    {
     "name": "stdout",
     "output_type": "stream",
     "text": [
      "70000\n",
      "[98.57142857 98.69857143 98.71142857 98.69571429 98.67428571 98.65\n",
      " 98.66      ]\n",
      "[98.57142857 98.63857143 98.64428571 98.63428571 98.63571429 98.62\n",
      " 98.61714286]\n"
     ]
    }
   ],
   "source": [
    "\n",
    "control_final_performance=(np.asarray(basis_performance)/np.shape(data)[0])*100\n",
    "rotation_final_performance=(np.asarray(basis_performance_rotations)/np.shape(data)[0])*100\n",
    "for i in range(np.shape(control_final_performance)[0]):\n",
    "    control_final_performance[i]=100-control_final_performance[i]\n",
    "    rotation_final_performance[i]=100-rotation_final_performance[i]\n",
    "print(control_final_performance)\n",
    "print(rotation_final_performance)"
   ]
  },
  {
   "cell_type": "code",
   "execution_count": 85,
   "id": "3c8d3043",
   "metadata": {},
   "outputs": [
    {
     "data": {
      "image/png": "[encoded data removed]",
      "text/plain": [
       "<Figure size 576x504 with 1 Axes>"
      ]
     },
     "metadata": {
      "needs_background": "light"
     },
     "output_type": "display_data"
    }
   ],
   "source": [
    "#Plot the results for different singular vector quantities\n",
    "fig = plt.figure(figsize=(8, 7))\n",
    "x=np.array(([4,8,12,16,20,24,28]))\n",
    "plt.plot(x,control_final_performance,'o-')\n",
    "plt.plot(x,rotation_final_performance,'o-')\n",
    "plt.title(\"Number of errors versus number of basis vectors \")\n",
    "plt.xlabel(\"Number of basis vectors for each digit basis\")\n",
    "plt.ylabel(\"Percent of correctly classfied samples\")\n",
    "plt.show()"
   ]
  },
  {
   "cell_type": "markdown",
   "id": "34d20618",
   "metadata": {},
   "source": [
    "So it can be seen that in general rotations worsen the quality of the classifier, although it is only by a small amount about .06% or less which is very negligble. "
   ]
  },
  {
   "cell_type": "code",
   "execution_count": 95,
   "id": "d80b8577",
   "metadata": {},
   "outputs": [],
   "source": [
    "def modified_classify( Us, y, r):\n",
    "        y=np.reshape(y,(28,28))\n",
    "        classifications = []\n",
    "        U_rs = [U[:r] for U in Us]\n",
    "        for i,U_r in enumerate(U_rs):\n",
    "            x_i = la.solve(U_r@U_r.T,U_r@y)\n",
    "            norm_z= la.norm(y-U_r.T@x_i)\n",
    "            classifications.append(norm_z)\n",
    "        return classifications"
   ]
  },
  {
   "cell_type": "code",
   "execution_count": 102,
   "id": "fb956030",
   "metadata": {},
   "outputs": [],
   "source": [
    "def calc_sig(significance, Us, y, r):\n",
    "        #Classify with one basis vector\n",
    "        classifications = modified_classify(Us, y, 1)\n",
    "        \n",
    "        # predicted number\n",
    "        prediction = np.argmin(classifications)\n",
    "        \n",
    "        # value of diff\n",
    "        prediction_val = classifications[prediction]\n",
    "        classifications.pop(prediction)\n",
    "\n",
    "        next_best = min(classifications)\n",
    "        \n",
    "        diff = next_best-prediction_val\n",
    "        #If the difference is more than a tolerance level return the prediction otherwise\n",
    "        #Use the old algorithm\n",
    "        if diff > significance:\n",
    "            return prediction if prediction !=0 else 10\n",
    "        classifications = modified_classify(Us, y, r)\n",
    "        prediction = np.argmin(classifications)\n",
    "\n",
    "        return prediction if prediction !=0 else 10"
   ]
  },
  {
   "cell_type": "code",
   "execution_count": 114,
   "id": "861bb562",
   "metadata": {},
   "outputs": [
    {
     "name": "stdout",
     "output_type": "stream",
     "text": [
      "(10000,)\n",
      "testing  5  basis vectors\n"
     ]
    },
    {
     "ename": "IndexError",
     "evalue": "array index out of range",
     "output_type": "error",
     "traceback": [
      "\u001b[0;31m---------------------------------------------------------------------------\u001b[0m",
      "\u001b[0;31mIndexError\u001b[0m                                Traceback (most recent call last)",
      "Input \u001b[0;32mIn [114]\u001b[0m, in \u001b[0;36m<cell line: 4>\u001b[0;34m()\u001b[0m\n\u001b[1;32m      6\u001b[0m wrongly_classified \u001b[38;5;241m=\u001b[39m \u001b[38;5;241m0\u001b[39m\n\u001b[1;32m      7\u001b[0m \u001b[38;5;28;01mfor\u001b[39;00m i  \u001b[38;5;129;01min\u001b[39;00m \u001b[38;5;28mrange\u001b[39m(np\u001b[38;5;241m.\u001b[39mshape(data)[\u001b[38;5;241m0\u001b[39m]):\n\u001b[0;32m----> 9\u001b[0m     \u001b[38;5;28;01mif\u001b[39;00m calc_sig(\u001b[38;5;241m.6\u001b[39m,Us, data[i], \u001b[38;5;241m5\u001b[39m\u001b[38;5;241m*\u001b[39mj) \u001b[38;5;241m!=\u001b[39m \u001b[38;5;28mint\u001b[39m(test_labels[i]): wrongly_classified\u001b[38;5;241m+\u001b[39m\u001b[38;5;241m=\u001b[39m\u001b[38;5;241m1\u001b[39m       \n\u001b[1;32m     10\u001b[0m basis_performance2\u001b[38;5;241m.\u001b[39mappend(wrongly_classified)\n\u001b[1;32m     11\u001b[0m \u001b[38;5;28mprint\u001b[39m(basis_performance2)\n",
      "\u001b[0;31mIndexError\u001b[0m: array index out of range"
     ]
    }
   ],
   "source": [
    "print(np.shape(test_labels))\n",
    "basis_performance2=[]\n",
    "Basis_errors2=[[],[],[],[],[]]\n",
    "for j in range(1,5):\n",
    "    print(\"testing \",5*j,\" basis vectors\")\n",
    "    wrongly_classified = 0\n",
    "    for i  in range(np.shape(data)[0]):\n",
    "        \n",
    "        if calc_sig(.6,Us, data[i], 5*j) != int(test_labels[i]): wrongly_classified+=1       \n",
    "    basis_performance2.append(wrongly_classified)\n",
    "    print(basis_performance2)\n",
    "    \n",
    "    for i in range(0,10):\n",
    "        if i==0:\n",
    "            error=countX(incorrect_classification,10)/wrongly_classified\n",
    "        else:\n",
    "            error=countX(incorrect_classification,i)/wrongly_classified\n",
    "    Basis_errors2[j].append(error)      \n",
    "    print(\"=======================\")\n",
    "    \n",
    "print(basis_performance2)"
   ]
  },
  {
   "cell_type": "code",
   "execution_count": null,
   "id": "35fbb0a2",
   "metadata": {},
   "outputs": [],
   "source": []
  }
 ],
 "metadata": {
  "kernelspec": {
   "display_name": "Python 3.6 (tensorflow)",
   "language": "python",
   "name": "tensorflow"
  },
  "language_info": {
   "codemirror_mode": {
    "name": "ipython",
    "version": 3
   },
   "file_extension": ".py",
   "mimetype": "text/x-python",
   "name": "python",
   "nbconvert_exporter": "python",
   "pygments_lexer": "ipython3",
   "version": "3.9.13"
  }
 },
 "nbformat": 4,
 "nbformat_minor": 5
}
