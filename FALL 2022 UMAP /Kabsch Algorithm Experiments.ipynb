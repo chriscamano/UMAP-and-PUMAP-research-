{
 "cells": [
  {
   "cell_type": "code",
   "execution_count": 1,
   "id": "febab0f6",
   "metadata": {},
   "outputs": [],
   "source": [
    "import numpy as np\n",
    "import matplotlib.pyplot as plt\n",
    "from math import sqrt\n",
    "import math\n",
    "import numpy.linalg as la\n",
    "scaling=False"
   ]
  },
  {
   "cell_type": "code",
   "execution_count": 2,
   "id": "367cf19e",
   "metadata": {},
   "outputs": [],
   "source": [
    "#Fashion mnist\n",
    "import pandas as pd  # data processing, CSV file I/O (e.g. pd.read_csv)\n",
    "from sklearn import model_selection\n",
    "from sklearn import linear_model, ensemble, tree, neighbors, svm\n",
    "from mnist.loader import MNIST"
   ]
  },
  {
   "cell_type": "code",
   "execution_count": 3,
   "id": "914442a3",
   "metadata": {},
   "outputs": [
    {
     "name": "stdout",
     "output_type": "stream",
     "text": [
      "Fetching Fashion-Mnist\n",
      "=========================\n",
      "Fashion-Mnist loaded\n",
      "=========================\n"
     ]
    }
   ],
   "source": [
    "print(\"Fetching Fashion-Mnist\")\n",
    "print(\"=========================\")\n",
    "mndata = MNIST('../fashion-mnist/data/fashion') #added path extension for new file structure\n",
    "train, train_labels = mndata.load_training()\n",
    "test, test_labels = mndata.load_testing()\n",
    "data = np.array(np.vstack([train, test]), dtype=np.float64) / 255.0\n",
    "target = np.hstack([train_labels, test_labels])\n",
    "classes = [\n",
    "    'T-shirt/top',\n",
    "    'Trouser', \n",
    "    'Pullover',\n",
    "    'Dress',\n",
    "    'Coat',\n",
    "    'Sandal',\n",
    "    'Shirt',\n",
    "    'Sneaker',\n",
    "    'Bag',\n",
    "    'Ankle boot']\n",
    "print(\"Fashion-Mnist loaded\")\n",
    "print (\"=========================\")"
   ]
  },
  {
   "cell_type": "markdown",
   "id": "0894435d",
   "metadata": {},
   "source": [
    "## A breif overview of the Kabsch Algorithm "
   ]
  },
  {
   "cell_type": "markdown",
   "id": "4b114fa0",
   "metadata": {},
   "source": [
    "4 Rigid motion computation - summary\n",
    "Let us summarize the steps to computing the optimal translation $\\mathbf{t}$ and rotation $R$ that minimize\n",
    "$$\n",
    "\\sum_{i=1}^n w_i\\left\\|\\left(R \\mathbf{p}_i+\\mathbf{t}\\right)-\\mathbf{q}_i\\right\\|^2\n",
    "$$\n",
    "1. Compute the weighted centroids of both point sets:\n",
    "$$\n",
    "\\overline{\\mathbf{p}}=\\frac{\\sum_{i=1}^n w_i \\mathbf{p}_i}{\\sum_{i=1}^n w_i}, \\quad \\overline{\\mathbf{q}}=\\frac{\\sum_{i=1}^n w_i \\mathbf{q}_i}{\\sum_{i=1}^n w_i} .\n",
    "$$\n",
    "2. Compute the centered vectors\n",
    "$$\n",
    "\\mathbf{x}_i:=\\mathbf{p}_i-\\overline{\\mathbf{p}}, \\quad \\mathbf{y}_i:=\\mathbf{q}_i-\\overline{\\mathbf{q}}, \\quad i=1,2, \\ldots, n .\n",
    "$$\n",
    "3. Compute the $d \\times d$ covariance matrix\n",
    "$$\n",
    "S=X W Y^{\\top},\n",
    "$$\n",
    "where $X$ and $Y$ are the $d \\times n$ matrices that have $\\mathbf{x}_i$ and $\\mathbf{y}_i$ as their columns, respectively, and $W=\\operatorname{diag}\\left(w_1, w_2, \\ldots, w_n\\right)$.\n",
    "4. Compute the singular value decomposition $S=U \\Sigma V^{\\top}$. The rotation we are looking for is then\n",
    "$$\n",
    "R=V\\left(\\begin{array}{cccc}\n",
    "1 & & & \\\\\n",
    "& 1 & & \\\\\n",
    "& & \\ddots & \\\\\n",
    "& & 1 & \\\\\n",
    "& & & \\operatorname{det}\\left(V U^{\\top}\\right)\n",
    "\\end{array}\\right) U^{\\top} .\n",
    "$$\n",
    "5. Compute the optimal translation as\n",
    "$$\n",
    "\\mathbf{t}=\\overline{\\mathbf{q}}-R \\overline{\\mathbf{p}}\n",
    "$$"
   ]
  },
  {
   "cell_type": "code",
   "execution_count": 4,
   "id": "0e0cd49f",
   "metadata": {},
   "outputs": [],
   "source": [
    "def Kabsch_3D(A, B, scale):\n",
    "    #setup and saftey check\n",
    "    assert np.shape(A)==np.shape(B)\n",
    "    N = A.shape[0];  # total points\n",
    "    \n",
    "    #_______________________________________________________________________________________\n",
    "    #               Compute the weighted centroids of both point sets:\n",
    "    #_______________________________________________________________________________________\n",
    "    \n",
    "    centroid_A = np.mean(A, axis=0)\n",
    "    centroid_B = np.mean(B, axis=0)\n",
    "    \n",
    "    #_______________________________________________________________________________________\n",
    "    #                       Compute the centered vectors\n",
    "    #_______________________________________________________________________________________\n",
    "    \n",
    "    X = A - np.tile(centroid_A, (N, 1))\n",
    "    Y = B - np.tile(centroid_B, (N, 1))\n",
    "    \n",
    "    #_______________________________________________________________________________________\n",
    "    #                      Compute the  𝑑×𝑑  covariance matrix\n",
    "    #_______________________________________________________________________________________\n",
    "    \n",
    "    \n",
    "    H=X@Y.T\n",
    "    \"\"\"  if scale:\n",
    "        H = np.transpose(BB) * AA / N\n",
    "    else:\n",
    "        H = np.transpose(BB) * AA\"\"\"\n",
    "\n",
    "    #_______________________________________________________________________________________\n",
    "    #                     Compute the singular value decomposition  𝑆=𝑈Σ𝑉⊤ .  \n",
    "    #_______________________________________________________________________________________\n",
    "        \n",
    "    U, S, Vt = la.svd(H)\n",
    "\n",
    "    R = Vt.T * U.T\n",
    "\n",
    "    # special reflection case\n",
    "    if la.det(R) < 0:\n",
    "        print (\"Reflection\")\n",
    "        Vt[2, :] *= -1\n",
    "        R = Vt.T * U.T\n",
    "\n",
    "    if scale:\n",
    "        varA = np.var(A, axis=0).sum()\n",
    "        c = 1 / (1 / varA * np.sum(S))  # scale factor\n",
    "        t = -R * (centroid_B.T * c) + centroid_A.T\n",
    "    else:\n",
    "        print(R.shape,centroid_B.T.shape,centroid_A.T.shape)\n",
    "        c = 1\n",
    "        t = centroid_B-R@centroid_A #-R @ centroid_B.T + centroid_A.T \n",
    "\n",
    "    return c, R, t"
   ]
  },
  {
   "cell_type": "code",
   "execution_count": 5,
   "id": "4de08699",
   "metadata": {},
   "outputs": [],
   "source": [
    "def calc_rmse(A,B,r,t):\n",
    "    print(r.shape)\n",
    "    print(t.shape)\n",
    "    print(l.shape)\n",
    "    print(i.shape)\n",
    "    # Find the error\n",
    "    B2 = (r @ B.T) + t#np.tile(t, (1, n))\n",
    "    B2 = B2.T\n",
    "    err = A - B2\n",
    "    err = np.multiply(err, err)\n",
    "    err = np.sum(err)\n",
    "    rmse = sqrt(err / n);\n",
    "    return rmse"
   ]
  },
  {
   "cell_type": "code",
   "execution_count": 234,
   "id": "c51c260b",
   "metadata": {},
   "outputs": [
    {
     "name": "stdout",
     "output_type": "stream",
     "text": [
      "(3, 3) (3, 1) (3, 1)\n"
     ]
    },
    {
     "ename": "ValueError",
     "evalue": "matmul: Input operand 1 has a mismatch in its core dimension 0, with gufunc signature (n?,k),(k,m?)->(n?,m?) (size 1 is different from 3)",
     "output_type": "error",
     "traceback": [
      "\u001b[0;31m---------------------------------------------------------------------------\u001b[0m",
      "\u001b[0;31mValueError\u001b[0m                                Traceback (most recent call last)",
      "Input \u001b[0;32mIn [234]\u001b[0m, in \u001b[0;36m<cell line: 23>\u001b[0;34m()\u001b[0m\n\u001b[1;32m     17\u001b[0m Tstarg \u001b[38;5;241m=\u001b[39m np\u001b[38;5;241m.\u001b[39mmatrix([[\u001b[38;5;241m0.9848\u001b[39m, \u001b[38;5;241m0.1737\u001b[39m,\u001b[38;5;241m0.0000\u001b[39m,\u001b[38;5;241m-\u001b[39m\u001b[38;5;241m11.5865\u001b[39m],\n\u001b[1;32m     18\u001b[0m                    [\u001b[38;5;241m-\u001b[39m\u001b[38;5;241m0.1632\u001b[39m,\u001b[38;5;241m0.9254\u001b[39m,\u001b[38;5;241m0.3420\u001b[39m, \u001b[38;5;241m-\u001b[39m\u001b[38;5;241m7.621\u001b[39m],\n\u001b[1;32m     19\u001b[0m                    [\u001b[38;5;241m0.0594\u001b[39m,\u001b[38;5;241m-\u001b[39m\u001b[38;5;241m0.3369\u001b[39m,\u001b[38;5;241m0.9400\u001b[39m,\u001b[38;5;241m2.7752\u001b[39m],\n\u001b[1;32m     20\u001b[0m                    [\u001b[38;5;241m0.0000\u001b[39m, \u001b[38;5;241m0.0000\u001b[39m,\u001b[38;5;241m0.0000\u001b[39m,\u001b[38;5;241m1.0000\u001b[39m]])\n\u001b[1;32m     22\u001b[0m \u001b[38;5;66;03m# recover the transformation\u001b[39;00m\n\u001b[0;32m---> 23\u001b[0m s, approx_Rotation, approx_translation \u001b[38;5;241m=\u001b[39m \u001b[43mKabsch_3D\u001b[49m\u001b[43m(\u001b[49m\u001b[43mA\u001b[49m\u001b[43m,\u001b[49m\u001b[43m \u001b[49m\u001b[43mB\u001b[49m\u001b[43m,\u001b[49m\u001b[43m \u001b[49m\u001b[43mscaling\u001b[49m\u001b[43m)\u001b[49m\n\u001b[1;32m     24\u001b[0m \u001b[38;5;66;03m#find rmse\u001b[39;00m\n\u001b[1;32m     25\u001b[0m rmse\u001b[38;5;241m=\u001b[39mcalc_rmse(A,B,approx_Rotation,approx_translation)\n",
      "Input \u001b[0;32mIn [232]\u001b[0m, in \u001b[0;36mKabsch_3D\u001b[0;34m(A, B, scale)\u001b[0m\n\u001b[1;32m     50\u001b[0m     \u001b[38;5;28mprint\u001b[39m(R\u001b[38;5;241m.\u001b[39mshape,centroid_B\u001b[38;5;241m.\u001b[39mT\u001b[38;5;241m.\u001b[39mshape,centroid_A\u001b[38;5;241m.\u001b[39mT\u001b[38;5;241m.\u001b[39mshape)\n\u001b[1;32m     51\u001b[0m     c \u001b[38;5;241m=\u001b[39m \u001b[38;5;241m1\u001b[39m\n\u001b[0;32m---> 52\u001b[0m     t \u001b[38;5;241m=\u001b[39m centroid_B\u001b[38;5;241m-\u001b[39m\u001b[43mR\u001b[49m\u001b[38;5;129;43m@centroid_A\u001b[39;49m \u001b[38;5;66;03m#-R @ centroid_B.T + centroid_A.T \u001b[39;00m\n\u001b[1;32m     54\u001b[0m \u001b[38;5;28;01mreturn\u001b[39;00m c, R, t\n",
      "\u001b[0;31mValueError\u001b[0m: matmul: Input operand 1 has a mismatch in its core dimension 0, with gufunc signature (n?,k),(k,m?)->(n?,m?) (size 1 is different from 3)"
     ]
    }
   ],
   "source": [
    "\n",
    "# Test\n",
    "A = np.matrix([[10.0, 10.0, 10.0],\n",
    "               [20.0, 10.0, 10.0],\n",
    "               [20.0, 10.0, 15.0]])\n",
    "\n",
    "B = np.matrix([[18.8106, 17.6222, 12.8169],\n",
    "               [28.6581, 19.3591, 12.8173],\n",
    "               [28.9554, 17.6748, 17.5159]])\n",
    "\n",
    "n = B.shape[0]\n",
    "\n",
    "Ttarg = np.matrix([[0.9848, 0.1737,0.0000,-11.5859],\n",
    "                   [-0.1632,0.9254,0.3420, -7.621],\n",
    "                   [0.0594,-0.3369,0.9400,2.7755],\n",
    "                   [0.0000, 0.0000,0.0000,1.0000]])\n",
    "\n",
    "Tstarg = np.matrix([[0.9848, 0.1737,0.0000,-11.5865],\n",
    "                   [-0.1632,0.9254,0.3420, -7.621],\n",
    "                   [0.0594,-0.3369,0.9400,2.7752],\n",
    "                   [0.0000, 0.0000,0.0000,1.0000]])\n",
    "\n",
    "# recover the transformation\n",
    "s, approx_Rotation, approx_translation = Kabsch_3D(A, B, scaling)\n",
    "#find rmse\n",
    "rmse=calc_rmse(A,B,approx_Rotation,approx_translation)\n",
    "#convert to 4x4 transform\n",
    "match_target = np.zeros((4,4))\n",
    "match_target[:3,:3] = approx_Rotation\n",
    "#Manually assigning column of homogenous \n",
    "match_target[0,3] = approx_translation[0]\n",
    "match_target[1,3] = approx_translation[1]\n",
    "match_target[2,3] = approx_translation[2]\n",
    "match_target[3,3] = 1\n",
    "\n",
    "print(approx_translation)\n",
    "print (\"Points A\")\n",
    "print (A)\n",
    "print (\"\")\n",
    "print (\"Points B\")\n",
    "print( B)\n",
    "print (\"\")\n",
    "print (\"Rotation\")\n",
    "print (approx_Rotation)\n",
    "print (\"\")\n",
    "print (\"Translation\")\n",
    "print (approx_translation)\n",
    "print (\"\")\n",
    "print (\"Scale\")\n",
    "print (s)\n",
    "print (\"\")\n",
    "print (\"Homogeneous Transform\")\n",
    "print( match_target)\n",
    "print (\"\")\n",
    "if scaling:\n",
    "    print (\"Total Diff to SA matrix\")\n",
    "    print (np.sum(match_target - Tstarg))\n",
    "    print (\"\")\n",
    "else:\n",
    "    print (\"Total Diff to SA matrix\")\n",
    "    print (np.sum(match_target - Ttarg))\n",
    "    print (\"\")\n",
    "\n",
    "print (\"RMSE:\", rmse)\n",
    "print (\"If RMSE is near zero, the function is correct!\")"
   ]
  },
  {
   "cell_type": "code",
   "execution_count": 6,
   "id": "18605164",
   "metadata": {},
   "outputs": [],
   "source": [
    "def rotate(theta,image):\n",
    "    \n",
    "    theta=math.radians(theta)                               #converting degrees to radians\n",
    "    cosine=math.cos(theta)\n",
    "    sine=math.sin(theta)\n",
    "                                 \n",
    "    \n",
    "    # Compute augmented image dimensions\n",
    "    new_height  = round(abs(image.shape[0]*cosine)+abs(image.shape[1]*sine))+1\n",
    "    new_width  = round(abs(image.shape[1]*cosine)+abs(image.shape[0]*sine))+1\n",
    "\n",
    "    #init temp matrix to be populated with individually rotated elements\n",
    "    output=np.zeros((new_height,new_width))\n",
    "    # Identify point of rotation in original image\n",
    "    original_centre_height   = round(((image.shape[0]+1)/2)-1)    #with respect to the original image\n",
    "    original_centre_width    = round(((image.shape[1]+1)/2)-1)    #with respect to the original image\n",
    "\n",
    "    # Find the centre of the new image that will be obtained\n",
    "    new_centre_height= round(((new_height+1)/2)-1)        #with respect to the new image\n",
    "    new_centre_width= round(((new_width+1)/2)-1)          #with respect to the new image\n",
    "    \n",
    "    \n",
    "    for i in range(image.shape[0]):\n",
    "        for j in range(image.shape[1]):\n",
    "            #co-ordinates of pixel with respect to the centre of original image\n",
    "            y=image.shape[0]-1-i-original_centre_height                   \n",
    "            x=image.shape[1]-1-j-original_centre_width \n",
    "\n",
    "            #Applying shear Transformation                     \n",
    "            new_y,new_x=shear(theta,x,y)\n",
    "            #Adjust coordinates to be relative to the new center after rotation\n",
    "            new_y=new_centre_height-new_y\n",
    "            new_x=new_centre_width-new_x\n",
    "\n",
    "            output[new_y,new_x]=image[i,j]                          #writing the pixels to the new destination in the output image\n",
    "    \n",
    "    #trim output: \n",
    "    # iterate through matrix, if there exists an element less than tau round it down to 0\n",
    "    tau=.1\n",
    "    for j in range(output.shape[0]):\n",
    "        for k in range(output.shape[0]):\n",
    "            if output[j][k]<tau:\n",
    "                output[j][k]=np.rint(output[j][k])\n",
    "                \n",
    "    # identify indices of zero rows and columns and delete them from the final matrix( could be done with less lines )\n",
    "    \n",
    "    idx = np.argwhere(np.all(output[..., :] == 0, axis=0))\n",
    "    o2 = np.delete(output, idx, axis=0)\n",
    "    idy = np.argwhere(np.all(output[..., :] == 0, axis=1))\n",
    "    o3= np.delete(o2, idy, axis=1)\n",
    "   \n",
    "    return o3           \n",
    "    \n",
    "    #return output"
   ]
  },
  {
   "cell_type": "code",
   "execution_count": 10,
   "id": "6b8c5c2e",
   "metadata": {},
   "outputs": [],
   "source": [
    "# A shear is used here to avoid issues with anti aliasing, method described by \n",
    "#vhttps://www.ocf.berkeley.edu/~fricke/projects/israel/paeth/rotation_by_shearing.html\n",
    "def shear(angle,x,y):\n",
    "    '''\n",
    "    |1  -tan(𝜃/2) |  |1        0|  |1  -tan(𝜃/2) | \n",
    "    |0      1     |  |sin(𝜃)   1|  |0      1     |\n",
    "    '''\n",
    "    \n",
    "    tangent=math.tan(angle/2)\n",
    "    new_x=round(x-y*tangent)\n",
    "    new_y=y\n",
    "    \n",
    "    new_y=round(new_x*math.sin(angle)+new_y)      #since there is no change in new_x according to the shear matrix\n",
    "    new_x=round(new_x-new_y*tangent)              #since there is no change in new_y according to the shear matrix\n",
    "    \n",
    "    return new_y,new_x"
   ]
  },
  {
   "cell_type": "code",
   "execution_count": 12,
   "id": "b57de52f",
   "metadata": {},
   "outputs": [
    {
     "data": {
      "image/png": "[encoded data removed]",
      "text/plain": [
       "<Figure size 576x432 with 1 Axes>"
      ]
     },
     "metadata": {
      "needs_background": "light"
     },
     "output_type": "display_data"
    },
    {
     "name": "stdout",
     "output_type": "stream",
     "text": [
      "(29, 29)\n"
     ]
    },
    {
     "data": {
      "image/png": "[encoded data removed]",
      "text/plain": [
       "<Figure size 576x432 with 1 Axes>"
      ]
     },
     "metadata": {
      "needs_background": "light"
     },
     "output_type": "display_data"
    },
    {
     "name": "stdout",
     "output_type": "stream",
     "text": [
      "(29, 29)\n",
      "(28, 28)\n"
     ]
    },
    {
     "data": {
      "image/png": "[encoded data removed]",
      "text/plain": [
       "<Figure size 576x432 with 1 Axes>"
      ]
     },
     "metadata": {
      "needs_background": "light"
     },
     "output_type": "display_data"
    }
   ],
   "source": [
    "#testing rotations on sample image \n",
    "\n",
    "l=np.reshape(data[1],(28,28))\n",
    "fig = plt.figure( figsize=(8, 6))\n",
    "plt.imshow(l, cmap='viridis')\n",
    "plt.show()\n",
    "\n",
    "#fails for 5,6 degrees for some reason, debugging needed \n",
    "i=rotate(45,l)\n",
    "print(i.shape)\n",
    "fig = plt.figure( figsize=(8, 6))\n",
    "plt.imshow(i, cmap='viridis')\n",
    "plt.show()\n",
    "\"\"\"Since the rotations are not perfect we end up with some small descrepancies in dimensionality.\n",
    "This will have to be remedied with some concessions so we will be trimming off one row and column from the dimension max.\"\"\"\n",
    "print(np.shape(i))\n",
    "i=np.delete(i,28,1)\n",
    "i=np.delete(i,28,0)\n",
    "print(i.shape)\n",
    "\n",
    "fig = plt.figure( figsize=(8, 6))\n",
    "plt.imshow(i, cmap='viridis')\n",
    "plt.show()"
   ]
  },
  {
   "cell_type": "code",
   "execution_count": 238,
   "id": "eb7f4ad9",
   "metadata": {},
   "outputs": [
    {
     "name": "stdout",
     "output_type": "stream",
     "text": [
      "Reflection\n",
      "(28, 28) (28,) (28,)\n",
      "(28, 28)\n",
      "(28,)\n",
      "(28, 28)\n",
      "(28, 28)\n",
      "Plot of Homogenous coordinates\n"
     ]
    },
    {
     "data": {
      "image/png": "[encoded data removed]",
      "text/plain": [
       "<Figure size 576x432 with 1 Axes>"
      ]
     },
     "metadata": {
      "needs_background": "light"
     },
     "output_type": "display_data"
    },
    {
     "name": "stdout",
     "output_type": "stream",
     "text": [
      "RMSE: 2.348858285415269\n",
      "If RMSE is near zero, the function is correct!\n"
     ]
    },
    {
     "data": {
      "image/png": "[encoded data removed]",
      "text/plain": [
       "<Figure size 576x432 with 1 Axes>"
      ]
     },
     "metadata": {
      "needs_background": "light"
     },
     "output_type": "display_data"
    }
   ],
   "source": [
    "n=np.shape(i)[0]\n",
    "# recover the transformation\n",
    "s, approx_Rotation, approx_translation = Kabsch_3D(l, i, scaling)\n",
    "\n",
    "#find rmse\n",
    "rmse=calc_rmse(l,i,approx_Rotation,approx_translation)\n",
    "\n",
    "#convert to 4x4 transform\n",
    "match_target = np.zeros((n+1,n+1))\n",
    "match_target[:n,:n] = approx_Rotation\n",
    "#Manually assigning column of homogenous \n",
    "for j in range(n-1):\n",
    "    match_target[j][n] = approx_translation[j]\n",
    "match_target[n][n]=1\n",
    "print(\"Plot of Homogenous coordinates\")\n",
    "fig = plt.figure( figsize=(8, 6))\n",
    "plt.imshow(match_target, cmap='viridis')\n",
    "plt.show()\n",
    "\n",
    "\n",
    "\n",
    "print (\"RMSE:\", rmse)\n",
    "print (\"If RMSE is near zero, the function is correct!\")\n",
    "#Manually applying tranosformations since there are issues with the homogenous matrix for some reason. \n",
    "\n",
    "test_correction=i@approx_Rotation\n",
    "test_correction=test_correction*approx_translation\n",
    "\n",
    "\n",
    "\n",
    "fig = plt.figure( figsize=(8, 6))\n",
    "plt.imshow(test_correction, cmap='viridis')\n",
    "plt.show()"
   ]
  },
  {
   "cell_type": "markdown",
   "id": "faf85ad1",
   "metadata": {},
   "source": [
    "Algorithm Kabsch-Umeyama\n",
    "\n",
    "Compute $d \\times d$ matrix $M=Q P^T$.\n",
    "\n",
    "Compute SVD of $M$, i.e., identify $d \\times d$ matrices $V, S, W$,\n",
    "\n",
    "so that $M=V S W^T$ in the SVD sense.\n",
    "\n",
    "Set $s_1=\\ldots=s_{d-1}=1$.\n",
    "\n",
    "If $\\operatorname{det}(V W)>0$, then set $s_d=1$, else set $s_d=-1$.\n",
    "\n",
    "Set $\\tilde{S}=\\operatorname{diag}\\left\\{s_1, \\ldots, s_d\\right\\}$.\n",
    "\n",
    "Return $d \\times d$ rotation matrix $U=W \\tilde{S} V^T$."
   ]
  },
  {
   "cell_type": "code",
   "execution_count": 13,
   "id": "0e454b72",
   "metadata": {},
   "outputs": [],
   "source": [
    "def kabsch_2(Q,P):\n",
    "    M=Q@P.T\n",
    "    V,S,Wt=la.svd(M)\n",
    "    S=np.ones(Q.shape[0])\n",
    "    \n",
    "    if la.det(V@Wt.T)>0:\n",
    "        S[Q.shape[0]]=-1\n",
    "    S_=np.diag(S)\n",
    "    return Wt.T@S_@V.T"
   ]
  },
  {
   "cell_type": "code",
   "execution_count": 14,
   "id": "97fb5976",
   "metadata": {},
   "outputs": [
    {
     "data": {
      "image/png": "[encoded data removed]",
      "text/plain": [
       "<Figure size 576x432 with 1 Axes>"
      ]
     },
     "metadata": {
      "needs_background": "light"
     },
     "output_type": "display_data"
    },
    {
     "data": {
      "image/png": "[encoded data removed]",
      "text/plain": [
       "<Figure size 576x432 with 1 Axes>"
      ]
     },
     "metadata": {
      "needs_background": "light"
     },
     "output_type": "display_data"
    }
   ],
   "source": [
    "#Kabsch 2 testing \n",
    "\n",
    "r_guess=kabsch_2(l,i)\n",
    "\n",
    "\n",
    "dirty_correction=(i.T@r_guess).T\n",
    "fig = plt.figure( figsize=(8, 6))\n",
    "plt.imshow(dirty_correction, cmap='viridis')\n",
    "plt.show()\n",
    "cleaned_correction=dirty_correction\n",
    "\n",
    "# iterate through matrix, if there exists an element less than tau round it down to 0\n",
    "tau=.1\n",
    "for j in range(dirty_correction.shape[0]):\n",
    "    for k in range(dirty_correction.shape[0]):\n",
    "        if dirty_correction[j][k]<tau:\n",
    "            cleaned_correction[j][k]=np.rint(dirty_correction[j][k])/4\n",
    "                         \n",
    "fig = plt.figure( figsize=(8, 6))\n",
    "plt.imshow(cleaned_correction, cmap='viridis')\n",
    "plt.show()"
   ]
  },
  {
   "cell_type": "code",
   "execution_count": 16,
   "id": "b96689ff",
   "metadata": {
    "scrolled": false
   },
   "outputs": [
    {
     "name": "stdout",
     "output_type": "stream",
     "text": [
      "[[-0.14574025  0.00595382  0.03460043 -0.16252395  0.27433302 -0.12268455\n",
      "   0.10598279  0.12032806 -0.24691551  0.02166528 -0.08094311  0.10541029\n",
      "   0.13182082 -0.27345559 -0.03790138 -0.23418354  0.3358952  -0.28719897\n",
      "  -0.24057737  0.32447447  0.03372242  0.23708616  0.10915892 -0.07890117\n",
      "   0.26033728  0.03401542 -0.32269767  0.02311855]\n",
      " [-0.13256519 -0.04703872 -0.01800038  0.0333615   0.21230131 -0.35940722\n",
      "  -0.15318174  0.33342112 -0.16684886 -0.1817739  -0.05309761  0.02511393\n",
      "   0.11484081  0.08715111  0.1956366  -0.15692224 -0.19414413  0.41671947\n",
      "  -0.01808026  0.06506606  0.06733314  0.06444041 -0.29962354 -0.23955468\n",
      "   0.20365577  0.00735624  0.32047456  0.07678856]\n",
      " [ 0.36325285  0.40963079 -0.06585276 -0.04967284  0.03005596 -0.04608636\n",
      "  -0.09748417  0.0964642  -0.18092722 -0.10419009 -0.17012948  0.23716579\n",
      "   0.27935162  0.20932197  0.05871815  0.10020133  0.11247058 -0.03109206\n",
      "  -0.0550277  -0.26712269  0.15079533  0.24086593  0.33629129 -0.03418271\n",
      "  -0.1363371  -0.30660227  0.10796437  0.01494177]\n",
      " [ 0.11634775  0.02197136 -0.088842   -0.04463433 -0.11383578  0.05113319\n",
      "  -0.0446999  -0.16491181 -0.21083672 -0.23714222  0.15770954  0.10242199\n",
      "   0.03992139  0.35727442  0.19060679  0.18167835  0.26904483 -0.15648142\n",
      "   0.12585583  0.11583504  0.29529955  0.06584072 -0.30481543  0.0247374\n",
      "   0.03703282  0.52638776 -0.04081657 -0.07340732]\n",
      " [-0.09110179 -0.32341408  0.05200496  0.12367036 -0.10795455  0.11208141\n",
      "  -0.20108156 -0.04409088 -0.13536041 -0.10618013 -0.06936644  0.10595556\n",
      "  -0.02957007 -0.0655732  -0.24689602  0.21242226  0.07484137  0.03602986\n",
      "  -0.08666032  0.20284392  0.10413778  0.14851237  0.29468915  0.40702123\n",
      "   0.25084994  0.0085282   0.47523042  0.12575633]\n",
      " [ 0.12761808  0.35939857  0.29583994  0.18247793  0.0149342  -0.28331339\n",
      "   0.17286185 -0.21408692  0.034051   -0.12494099 -0.11436224  0.13423689\n",
      "  -0.18633222  0.0293298   0.18729154 -0.22279737 -0.15534435  0.15775613\n",
      "   0.0262774   0.19464191 -0.22716922 -0.0398972   0.28416     0.27789072\n",
      "   0.04549633  0.32858468 -0.0152469   0.01803529]\n",
      " [-0.11623141  0.24488135  0.23920222  0.40342746 -0.08551557  0.06967781\n",
      "  -0.28574512 -0.2583305  -0.05781586  0.18803414  0.21784988 -0.12407569\n",
      "   0.31288554 -0.29785531  0.00869129  0.1675859  -0.04260329  0.15848439\n",
      "  -0.20996932  0.09554129  0.17138481  0.08859466  0.0198596  -0.27806524\n",
      "  -0.12210811  0.12398723 -0.04793787  0.04478009]\n",
      " [-0.02179261  0.20728738  0.05780339 -0.13217341  0.40102534  0.17091151\n",
      "   0.09556283 -0.31285954 -0.06142616  0.05862545  0.13040561 -0.04571168\n",
      "   0.0653179  -0.06335236  0.13372688  0.09008611  0.28969774 -0.07715706\n",
      "   0.00378209 -0.09800571 -0.39427981 -0.10354884 -0.23266419  0.02610509\n",
      "   0.06810417 -0.08134612  0.41233009  0.27632413]\n",
      " [ 0.28038204  0.27101897  0.02353902 -0.02526873 -0.08388289  0.32576027\n",
      "  -0.07989789  0.28225324  0.02277076  0.14228424 -0.20834013 -0.15744751\n",
      "   0.08167096 -0.09704918 -0.39856098 -0.24248378  0.04241129  0.11239718\n",
      "   0.34354866  0.07139009  0.00194974  0.06406947 -0.15103052  0.00167108\n",
      "   0.13118645  0.26174595  0.01732208  0.27265756]\n",
      " [ 0.1059258   0.03320708  0.1842669  -0.18678216  0.33485674 -0.08895678\n",
      "  -0.2676816  -0.07596521  0.24753078 -0.13531765  0.3315511  -0.27033029\n",
      "  -0.00758797  0.20168234 -0.10608793 -0.15837082 -0.07891007 -0.15241357\n",
      "   0.20974286  0.38306755  0.26765099 -0.03297408  0.14134118  0.02996068\n",
      "  -0.13723063 -0.21518706  0.04713863  0.02374452]\n",
      " [ 0.0006475  -0.01540638  0.06513189  0.196912    0.08352675 -0.11103754\n",
      "  -0.0271054   0.1884832   0.18963953 -0.01099285 -0.05342362 -0.47173794\n",
      "  -0.17922052  0.01279466  0.31723956  0.17892707  0.04891193 -0.23943114\n",
      "  -0.00313241 -0.3490912   0.14640687  0.15062879  0.16280209  0.02499803\n",
      "   0.30295619  0.11271217 -0.08554565  0.33183228]\n",
      " [-0.29483336  0.23746647 -0.23792485 -0.30859393 -0.03739936  0.20081586\n",
      "   0.10220511 -0.08958208  0.02144518  0.09343484 -0.04008691 -0.13832323\n",
      "  -0.03912026 -0.02668012  0.27528503  0.20040681  0.0779109   0.49876444\n",
      "   0.19508081  0.19394595  0.18653814  0.06347892  0.157913    0.15051907\n",
      "   0.16135887 -0.15192065 -0.17415268 -0.0126033 ]\n",
      " [-0.2710827  -0.04078988  0.16154928  0.06100891 -0.10557224  0.0272567\n",
      "   0.12568854  0.35895261  0.15947798 -0.07061093 -0.17863585  0.06468848\n",
      "   0.04201178 -0.07622304  0.2219712   0.07565945  0.34768102 -0.07980486\n",
      "   0.21729493  0.20585155 -0.00953313 -0.12141513  0.17220619 -0.17035823\n",
      "  -0.49949437  0.10179416  0.22521266  0.09209993]\n",
      " [ 0.14340826 -0.02595781  0.59557203 -0.02991151  0.08475863 -0.07620489\n",
      "   0.2035333   0.21354752 -0.14265571  0.01649195  0.0018072   0.05566662\n",
      "  -0.07339905  0.08868202 -0.17148529  0.51400518  0.03559313  0.15835933\n",
      "   0.02014025  0.06973419  0.0040236  -0.06459865 -0.22430652  0.0824909\n",
      "   0.03955747 -0.19038533 -0.24657173  0.03202322]\n",
      " [ 0.00942934 -0.14860999 -0.10404734  0.50428821  0.40401818  0.11827512\n",
      "  -0.06138551  0.006458   -0.08768318  0.1177905  -0.06092785 -0.05760533\n",
      "  -0.0032544   0.2311339  -0.05621939  0.02148926  0.22745153  0.13190858\n",
      "   0.32617095  0.00371951 -0.20884617  0.05195133  0.16681829 -0.09277611\n",
      "   0.093532   -0.01037634 -0.10569792 -0.40951187]\n",
      " [-0.16462127  0.18850618  0.08893663 -0.09313332  0.17082595  0.14658976\n",
      "   0.12010856  0.22195953  0.42577987 -0.33850867  0.27897863  0.0999692\n",
      "   0.08743812 -0.12851454 -0.21554897  0.04008671  0.07302131  0.12253828\n",
      "  -0.16540094 -0.28115956  0.02944651  0.13133451  0.03399839  0.07700532\n",
      "   0.1008902   0.23068409  0.08079046 -0.35862481]\n",
      " [ 0.01668648  0.20524346  0.0240908   0.23462399 -0.12072409 -0.07565147\n",
      "   0.18074978  0.07994973  0.25849291  0.45342985 -0.04708997  0.03280617\n",
      "  -0.07378824  0.12735874  0.09444766 -0.14537535  0.15957324 -0.13205928\n",
      "  -0.16325369  0.1580304   0.27093733  0.09939146 -0.31754054  0.21369094\n",
      "   0.11231046 -0.21344568  0.26349732 -0.25152354]\n",
      " [-0.03123776  0.04132431  0.08314257 -0.08360889  0.16353276  0.31359175\n",
      "   0.30635104  0.12304023 -0.22261534  0.24370598  0.10971193  0.13352241\n",
      "  -0.0455233   0.022617    0.11618608  0.09629332 -0.51333889 -0.25376174\n",
      "   0.09985054  0.05300114  0.16434039 -0.03628436  0.22169798 -0.24488453\n",
      "   0.13875161  0.15279403  0.22975607 -0.10793705]\n",
      " [ 0.2545458  -0.25479226  0.03350281 -0.02359981  0.05476101  0.20336626\n",
      "   0.12807344  0.25392584 -0.21548778  0.17805998  0.3540926  -0.19769459\n",
      "   0.11908892  0.07500222  0.23145947 -0.24798568  0.07492722  0.26567462\n",
      "  -0.29570704 -0.04022408 -0.03620904  0.04919866  0.10024064  0.30753574\n",
      "  -0.27510258  0.11156738 -0.03037302  0.05674762]\n",
      " [ 0.36549694 -0.15337268 -0.15708801 -0.20812513  0.09880077 -0.27485014\n",
      "  -0.23977942  0.08987604  0.32837275  0.39432846  0.11178878  0.29225236\n",
      "   0.07952306 -0.22827848  0.14342083  0.28790447  0.03898792  0.06033439\n",
      "   0.09253066  0.08839889 -0.11472056 -0.02939939  0.08713755 -0.02354741\n",
      "   0.08813022  0.22111514  0.00740214 -0.0217251 ]\n",
      " [-0.1190057   0.09573406 -0.07512774  0.18587817 -0.28662797 -0.0453778\n",
      "   0.02618233  0.2260773  -0.02288574 -0.11586689  0.37714469  0.06233421\n",
      "   0.443173   -0.00321344  0.13383533  0.0229524  -0.13691853 -0.22891406\n",
      "   0.29666462  0.10491606 -0.3078998  -0.02275491 -0.03597321  0.24068928\n",
      "   0.21547956 -0.19834002 -0.11040377  0.05359463]\n",
      " [-0.13820224  0.00642628 -0.02444067  0.08390536 -0.00893817 -0.210891\n",
      "   0.15519455 -0.03329638 -0.05886129  0.16748706  0.26011666  0.20990696\n",
      "   0.04752309  0.12077299 -0.23194617 -0.16724017  0.24845302  0.1287835\n",
      "   0.08565377 -0.24885683  0.31765198 -0.52075333  0.21128494 -0.05282928\n",
      "   0.17080178  0.02274472 -0.02266627  0.25360928]\n",
      " [-0.1280152   0.03011032 -0.00926339 -0.01312349 -0.19526855  0.01521949\n",
      "   0.01917057  0.02791933  0.11408167  0.12989765  0.31976673  0.18071243\n",
      "  -0.32368196  0.37908653 -0.14173033 -0.01384003  0.0687996   0.08924476\n",
      "  -0.08221823  0.0901561  -0.2720032   0.46413563  0.0932764  -0.32496226\n",
      "   0.01418262 -0.0212805  -0.02081785  0.2774989 ]\n",
      " [-0.26529555  0.01594623 -0.1813218   0.16279793  0.3792102  -0.06636534\n",
      "   0.03169593 -0.01256379  0.01976487  0.11534904 -0.02854159  0.27605233\n",
      "   0.00539561 -0.03518464 -0.10665284  0.05822497 -0.23026658 -0.04775724\n",
      "   0.14936595 -0.11457251  0.16702284  0.27338597 -0.18270774  0.36149777\n",
      "  -0.3675765   0.08277997 -0.15774183  0.29930107]\n",
      " [ 0.27909855 -0.07211018 -0.33276237  0.28483516  0.12646477  0.14854776\n",
      "   0.38239712 -0.03658739  0.29451648 -0.26969051 -0.07638654  0.02627782\n",
      "   0.15305962  0.05292768 -0.03891659  0.14966003 -0.07570641  0.07663392\n",
      "  -0.26793601  0.33318515  0.06259413 -0.13397992 -0.0099126  -0.15393148\n",
      "   0.05155559 -0.06299228 -0.06116952  0.26989059]\n",
      " [ 0.033639   -0.07314681  0.22285247  0.10749081  0.05403365  0.4617724\n",
      "  -0.35281382  0.04019631  0.14659782 -0.11609519 -0.02739223  0.45808862\n",
      "  -0.18146534 -0.04203328  0.34829674 -0.21884512  0.01780978  0.01468949\n",
      "  -0.0259546  -0.04702685  0.09134144 -0.134042   -0.08716094  0.00279238\n",
      "   0.15201316 -0.17316685 -0.19005114  0.11849585]\n",
      " [ 0.13825994 -0.36702449  0.25809332 -0.03862458 -0.09577453 -0.0381429\n",
      "   0.34793796 -0.33936122  0.14564641 -0.04531598 -0.01831044  0.05811025\n",
      "   0.25571931 -0.15162808  0.09506731 -0.20263312  0.03866757  0.11629218\n",
      "   0.34978083 -0.1589544   0.1578798   0.38319145 -0.022327   -0.12209283\n",
      "   0.06221617 -0.09183618  0.05538134  0.02424668]\n",
      " [-0.24761437 -0.11719501  0.20263955 -0.18361418  0.034418    0.08084723\n",
      "  -0.09869881 -0.08571663  0.23866007  0.20119504 -0.33345561 -0.02315008\n",
      "   0.49358594  0.5021186  -0.00945655 -0.01582039 -0.10668386 -0.02078495\n",
      "  -0.19318715 -0.02071925 -0.12240705 -0.07208876  0.05633863  0.05285413\n",
      "   0.08079918  0.16535714 -0.08899287  0.05105086]]\n",
      "(28, 28)\n"
     ]
    },
    {
     "data": {
      "image/png": "[encoded data removed]",
      "text/plain": [
       "<Figure size 576x432 with 1 Axes>"
      ]
     },
     "metadata": {
      "needs_background": "light"
     },
     "output_type": "display_data"
    }
   ],
   "source": [
    "print(r_guess)\n",
    "print(r_guess.shape)\n",
    "fig = plt.figure( figsize=(8, 6))\n",
    "plt.imshow(r_guess, cmap='viridis')\n",
    "plt.show()"
   ]
  },
  {
   "cell_type": "code",
   "execution_count": null,
   "id": "21253d34",
   "metadata": {},
   "outputs": [],
   "source": []
  }
 ],
 "metadata": {
  "kernelspec": {
   "display_name": "Python 3.6 (tensorflow)",
   "language": "python",
   "name": "tensorflow"
  },
  "language_info": {
   "codemirror_mode": {
    "name": "ipython",
    "version": 3
   },
   "file_extension": ".py",
   "mimetype": "text/x-python",
   "name": "python",
   "nbconvert_exporter": "python",
   "pygments_lexer": "ipython3",
   "version": "3.9.13"
  }
 },
 "nbformat": 4,
 "nbformat_minor": 5
}
